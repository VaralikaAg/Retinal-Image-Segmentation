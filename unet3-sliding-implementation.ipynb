{
 "cells": [
  {
   "cell_type": "markdown",
   "metadata": {},
   "source": [
    "## Importing important libraries"
   ]
  },
  {
   "cell_type": "code",
   "execution_count": 1,
   "metadata": {
    "execution": {
     "iopub.execute_input": "2024-11-19T17:23:15.459816Z",
     "iopub.status.busy": "2024-11-19T17:23:15.459159Z",
     "iopub.status.idle": "2024-11-19T17:23:25.304212Z",
     "shell.execute_reply": "2024-11-19T17:23:25.303103Z",
     "shell.execute_reply.started": "2024-11-19T17:23:15.459781Z"
    },
    "trusted": true
   },
   "outputs": [
    {
     "name": "stdout",
     "output_type": "stream",
     "text": [
      "Collecting einops\n",
      "  Downloading einops-0.8.0-py3-none-any.whl.metadata (12 kB)\n",
      "Downloading einops-0.8.0-py3-none-any.whl (43 kB)\n",
      "\u001b[2K   \u001b[90m━━━━━━━━━━━━━━━━━━━━━━━━━━━━━━━━━━━━━━━━\u001b[0m \u001b[32m43.2/43.2 kB\u001b[0m \u001b[31m2.2 MB/s\u001b[0m eta \u001b[36m0:00:00\u001b[0m\n",
      "\u001b[?25hInstalling collected packages: einops\n",
      "Successfully installed einops-0.8.0\n"
     ]
    }
   ],
   "source": [
    "!pip install einops"
   ]
  },
  {
   "cell_type": "code",
   "execution_count": null,
   "metadata": {
    "execution": {
     "iopub.execute_input": "2024-11-19T17:23:25.306733Z",
     "iopub.status.busy": "2024-11-19T17:23:25.306415Z",
     "iopub.status.idle": "2024-11-19T17:23:41.276600Z",
     "shell.execute_reply": "2024-11-19T17:23:41.275336Z",
     "shell.execute_reply.started": "2024-11-19T17:23:25.306705Z"
    },
    "trusted": true
   },
   "outputs": [],
   "source": [
    "import torch\n",
    "import torch.nn as nn\n",
    "from torch.nn import init\n",
    "import torch.nn.functional as F\n",
    "from torch.utils.data import Dataset, DataLoader\n",
    "from torchvision import transforms\n",
    "import os\n",
    "import numpy as np\n",
    "import math\n",
    "from math import exp\n",
    "import cv2\n",
    "from PIL import Image\n",
    "import datetime\n",
    "import matplotlib.pyplot as plt\n",
    "from torch.utils.tensorboard import SummaryWriter\n",
    "from einops import *"
   ]
  },
  {
   "cell_type": "markdown",
   "metadata": {},
   "source": [
    "## Dataset path"
   ]
  },
  {
   "cell_type": "code",
   "execution_count": null,
   "metadata": {
    "execution": {
     "iopub.execute_input": "2024-11-19T17:23:41.278769Z",
     "iopub.status.busy": "2024-11-19T17:23:41.278067Z",
     "iopub.status.idle": "2024-11-19T17:23:41.283755Z",
     "shell.execute_reply": "2024-11-19T17:23:41.282911Z",
     "shell.execute_reply.started": "2024-11-19T17:23:41.278728Z"
    },
    "trusted": true
   },
   "outputs": [],
   "source": [
    "dataset_path = '/kaggle/input/augmented-augment'"
   ]
  },
  {
   "cell_type": "markdown",
   "metadata": {},
   "source": [
    "## Transformations"
   ]
  },
  {
   "cell_type": "code",
   "execution_count": 4,
   "metadata": {
    "execution": {
     "iopub.execute_input": "2024-11-19T17:23:41.285229Z",
     "iopub.status.busy": "2024-11-19T17:23:41.284686Z",
     "iopub.status.idle": "2024-11-19T17:23:41.314853Z",
     "shell.execute_reply": "2024-11-19T17:23:41.313940Z",
     "shell.execute_reply.started": "2024-11-19T17:23:41.285175Z"
    },
    "trusted": true
   },
   "outputs": [],
   "source": [
    "class data(Dataset):\n",
    "    def __init__(self, dataset_path, transform_image=None, pad_transform=None):\n",
    "        self.dataset_path = dataset_path\n",
    "        self.transform_image = transform_image  # Preprocessing for images only\n",
    "        self.pad_transform = pad_transform      # Padding for both images and masks\n",
    "        self.images = sorted([f for f in os.listdir(os.path.join(dataset_path, 'augmented_images'))])  # Sorting images\n",
    "        self.mask = sorted([f for f in os.listdir(os.path.join(dataset_path, 'augmented_masks'))])    # Sorting masks\n",
    "\n",
    "    def __len__(self):\n",
    "        return len(self.images)\n",
    "\n",
    "    def __getitem__(self, idx):\n",
    "        img_path = os.path.join(self.dataset_path, 'augmented_images', self.images[idx])\n",
    "        mask_path = os.path.join(self.dataset_path, 'augmented_masks', self.mask[idx])\n",
    "\n",
    "        # Open image and mask\n",
    "        image = Image.open(img_path)  # Keep original RGB format for preprocessing\n",
    "        mask = Image.open(mask_path).convert(\"L\")  # Convert mask to grayscale directly\n",
    "\n",
    "        # Apply image-only preprocessing\n",
    "        if self.transform_image:\n",
    "            image = self.transform_image(image)\n",
    "\n",
    "        # Convert the image to grayscale after preprocessing\n",
    "        image = image.convert(\"L\")\n",
    "\n",
    "        # Apply padding to both image and mask\n",
    "        if self.pad_transform:\n",
    "            image = self.pad_transform(image)\n",
    "            mask = self.pad_transform(mask)\n",
    "\n",
    "        image = transforms.ToTensor()(image)\n",
    "        mask = transforms.ToTensor()(mask)\n",
    "\n",
    "        return image, mask"
   ]
  },
  {
   "cell_type": "markdown",
   "metadata": {},
   "source": [
    "## Image Pre processing"
   ]
  },
  {
   "cell_type": "code",
   "execution_count": 5,
   "metadata": {
    "execution": {
     "iopub.execute_input": "2024-11-19T17:23:41.317163Z",
     "iopub.status.busy": "2024-11-19T17:23:41.316880Z",
     "iopub.status.idle": "2024-11-19T17:23:41.333962Z",
     "shell.execute_reply": "2024-11-19T17:23:41.333103Z",
     "shell.execute_reply.started": "2024-11-19T17:23:41.317138Z"
    },
    "trusted": true
   },
   "outputs": [],
   "source": [
    "class PreprocessImage:\n",
    "    def __init__(self, kernel_size=30, gamma=1.5, clahe_clip_limit=5.0, clahe_tile_grid_size=(8, 8)):\n",
    "        self.kernel_size = kernel_size\n",
    "        self.gamma = gamma\n",
    "        self.clahe_clip_limit = clahe_clip_limit\n",
    "        self.clahe_tile_grid_size = clahe_tile_grid_size\n",
    "\n",
    "    def __call__(self, image):\n",
    "        # Convert to numpy array\n",
    "        image_array = np.array(image)\n",
    "\n",
    "        # Extract green channel\n",
    "        green_channel = image_array[:, :, 1]\n",
    "\n",
    "        # Define kernel for morphological operations\n",
    "        kernel = cv2.getStructuringElement(cv2.MORPH_RECT, (self.kernel_size, self.kernel_size))\n",
    "\n",
    "        # Bottom-hat and top-hat transformations\n",
    "        bottom_hat = cv2.morphologyEx(green_channel, cv2.MORPH_BLACKHAT, kernel)\n",
    "        top_hat = cv2.morphologyEx(green_channel, cv2.MORPH_TOPHAT, kernel)\n",
    "\n",
    "        # Subtract top-hat from bottom-hat\n",
    "        enhanced_image = cv2.subtract(bottom_hat, top_hat)\n",
    "\n",
    "        # CLAHE for contrast enhancement\n",
    "        clahe = cv2.createCLAHE(clipLimit=self.clahe_clip_limit, tileGridSize=self.clahe_tile_grid_size)\n",
    "        enhanced_image = clahe.apply(enhanced_image)\n",
    "\n",
    "        # Gamma correction\n",
    "        look_up_table = np.array([(i / 255.0) ** (1 / self.gamma) * 255 for i in range(256)]).astype(\"uint8\")\n",
    "        enhanced_image = cv2.LUT(enhanced_image, look_up_table)\n",
    "\n",
    "        # Median blur for smoothing\n",
    "        enhanced_image = cv2.medianBlur(enhanced_image, 3)\n",
    "\n",
    "        # Morphological opening to reduce artifacts\n",
    "        kernel_open = cv2.getStructuringElement(cv2.MORPH_RECT, (3, 3))\n",
    "        enhanced_image = cv2.morphologyEx(enhanced_image, cv2.MORPH_OPEN, kernel_open)\n",
    "\n",
    "        # Convert back to PIL Image\n",
    "        return Image.fromarray(enhanced_image)"
   ]
  },
  {
   "cell_type": "markdown",
   "metadata": {},
   "source": [
    "## Splitting into tiles"
   ]
  },
  {
   "cell_type": "code",
   "execution_count": 6,
   "metadata": {
    "execution": {
     "iopub.execute_input": "2024-11-19T17:23:41.335264Z",
     "iopub.status.busy": "2024-11-19T17:23:41.334956Z",
     "iopub.status.idle": "2024-11-19T17:23:41.349893Z",
     "shell.execute_reply": "2024-11-19T17:23:41.349174Z",
     "shell.execute_reply.started": "2024-11-19T17:23:41.335238Z"
    },
    "trusted": true
   },
   "outputs": [],
   "source": [
    "class SlidingWindowDataset(Dataset):\n",
    "    def __init__(self, dataset, tile_size=256):\n",
    "        self.dataset = dataset\n",
    "        self.tile_size = tile_size\n",
    "\n",
    "    def __len__(self):\n",
    "        return len(self.dataset)\n",
    "\n",
    "    def __getitem__(self, idx):\n",
    "        # Load the original padded image and mask pair\n",
    "        image, mask = self.dataset[idx]  # Assuming dataset returns (image, mask)\n",
    "\n",
    "        image=rearrange(image, 'c (h p1) (w p2) -> (h w) c p1 p2', p1=256, p2=256)\n",
    "        mask=rearrange(mask, 'c (h p1) (w p2) -> (h w) c p1 p2', p1=256, p2=256)\n",
    "\n",
    "        return image, mask\n"
   ]
  },
  {
   "cell_type": "markdown",
   "metadata": {},
   "source": [
    "## Data Transformation"
   ]
  },
  {
   "cell_type": "code",
   "execution_count": 7,
   "metadata": {
    "execution": {
     "iopub.execute_input": "2024-11-19T17:23:41.351149Z",
     "iopub.status.busy": "2024-11-19T17:23:41.350904Z",
     "iopub.status.idle": "2024-11-19T17:23:41.436419Z",
     "shell.execute_reply": "2024-11-19T17:23:41.435724Z",
     "shell.execute_reply.started": "2024-11-19T17:23:41.351126Z"
    },
    "trusted": true
   },
   "outputs": [],
   "source": [
    "preprocess_transform = PreprocessImage()\n",
    "pad_transform = transforms.Pad((0, 32, 25, 32))\n",
    "\n",
    "dataset = data(\n",
    "    dataset_path=dataset_path,\n",
    "    transform_image=preprocess_transform,\n",
    "    pad_transform=pad_transform\n",
    ")\n",
    "\n",
    "# Split into Train and Test Sets (80% train, 20% test)\n",
    "train_size = int(0.8 * len(dataset))\n",
    "test_size = len(dataset) - train_size\n",
    "train_dataset, test_dataset = torch.utils.data.random_split(dataset, [train_size, test_size])\n",
    "\n",
    "# Wrap the training and test sets with the SlidingWindowDataset to apply sliding window\n",
    "train_sliding_dataset = SlidingWindowDataset(train_dataset)\n",
    "test_sliding_dataset = SlidingWindowDataset(test_dataset)\n",
    "\n",
    "# Create DataLoaders\n",
    "train_loader = DataLoader(train_sliding_dataset, batch_size=1, shuffle=True)\n",
    "test_loader = DataLoader(test_sliding_dataset, batch_size=1, shuffle=False)"
   ]
  },
  {
   "cell_type": "markdown",
   "metadata": {},
   "source": [
    "## Defining loss functions"
   ]
  },
  {
   "cell_type": "code",
   "execution_count": 8,
   "metadata": {
    "execution": {
     "iopub.execute_input": "2024-11-19T17:23:41.437916Z",
     "iopub.status.busy": "2024-11-19T17:23:41.437547Z",
     "iopub.status.idle": "2024-11-19T17:23:41.442922Z",
     "shell.execute_reply": "2024-11-19T17:23:41.441918Z",
     "shell.execute_reply.started": "2024-11-19T17:23:41.437877Z"
    },
    "trusted": true
   },
   "outputs": [],
   "source": [
    "# #PyTorch\n",
    "# class DiceBCELoss(nn.Module):\n",
    "#     def __init__(self, weight=None, size_average=True):\n",
    "#         super(DiceBCELoss, self).__init__()\n",
    "\n",
    "#     def forward(self, inputs, targets, smooth=1):\n",
    "        \n",
    "#         inputs = F.sigmoid(inputs)   \n",
    "    \n",
    "#         #flatten label and prediction tensors\n",
    "#         inputs = inputs.view(-1)\n",
    "#         targets = targets.view(-1)\n",
    "        \n",
    "#         intersection = (inputs * targets).sum()                            \n",
    "#         dice_loss = 1 - (2.*intersection + smooth)/(inputs.sum() + targets.sum() + smooth)  \n",
    "#         BCE = F.binary_cross_entropy(inputs, targets, reduction='mean')\n",
    "#         Dice_BCE = 0.5*BCE + dice_loss\n",
    "        \n",
    "#         return Dice_BCE"
   ]
  },
  {
   "cell_type": "code",
   "execution_count": 10,
   "metadata": {
    "execution": {
     "iopub.execute_input": "2024-11-19T17:23:41.460982Z",
     "iopub.status.busy": "2024-11-19T17:23:41.460139Z",
     "iopub.status.idle": "2024-11-19T17:23:41.469879Z",
     "shell.execute_reply": "2024-11-19T17:23:41.468910Z",
     "shell.execute_reply.started": "2024-11-19T17:23:41.460935Z"
    },
    "trusted": true
   },
   "outputs": [],
   "source": [
    "class IoUSensitivityLoss(nn.Module):\n",
    "    def __init__(self):\n",
    "        super(IoUSensitivityLoss, self).__init__()\n",
    "\n",
    "    def forward(self, inputs, targets, smooth=1):\n",
    "        inputs = torch.sigmoid(inputs)  # Ensure inputs go through Sigmoid\n",
    "        inputs = inputs.view(-1)\n",
    "        targets = targets.view(-1)\n",
    "\n",
    "        # IoU Loss\n",
    "        intersection_iou = (inputs * targets).sum()\n",
    "        union = inputs.sum() + targets.sum() - intersection_iou\n",
    "        iou_loss = 1 - (intersection_iou + smooth) / (union + smooth)\n",
    "\n",
    "        # Sensitivity Loss\n",
    "        TP = (inputs * targets).sum()  # True Positives\n",
    "        FN = ((1 - inputs) * targets).sum()  # False Negatives\n",
    "        sensitivity = TP / (TP + FN + smooth)  # Smooth term for numerical stability\n",
    "        sensitivity_loss = 1 - sensitivity\n",
    "\n",
    "\n",
    "        # Combined Loss\n",
    "        loss = iou_loss + 0.3 * sensitivity_loss\n",
    "        return loss"
   ]
  },
  {
   "cell_type": "markdown",
   "metadata": {},
   "source": [
    "## UNet3+ Implementation"
   ]
  },
  {
   "cell_type": "code",
   "execution_count": 11,
   "metadata": {
    "execution": {
     "iopub.execute_input": "2024-11-19T17:23:41.471063Z",
     "iopub.status.busy": "2024-11-19T17:23:41.470826Z",
     "iopub.status.idle": "2024-11-19T17:23:41.487430Z",
     "shell.execute_reply": "2024-11-19T17:23:41.486317Z",
     "shell.execute_reply.started": "2024-11-19T17:23:41.471040Z"
    },
    "trusted": true
   },
   "outputs": [],
   "source": [
    "def weights_init_normal(m):\n",
    "    classname = m.__class__.__name__\n",
    "    #print(classname)\n",
    "    if classname.find('Conv') != -1:\n",
    "        init.normal_(m.weight.data, 0.0, 0.02)\n",
    "    elif classname.find('Linear') != -1:\n",
    "        init.normal_(m.weight.data, 0.0, 0.02)\n",
    "    elif classname.find('BatchNorm') != -1:\n",
    "        init.normal_(m.weight.data, 1.0, 0.02)\n",
    "        init.constant_(m.bias.data, 0.0)\n",
    "\n",
    "\n",
    "def weights_init_xavier(m):\n",
    "    classname = m.__class__.__name__\n",
    "    #print(classname)\n",
    "    if classname.find('Conv') != -1:\n",
    "        init.xavier_normal_(m.weight.data, gain=1)\n",
    "    elif classname.find('Linear') != -1:\n",
    "        init.xavier_normal_(m.weight.data, gain=1)\n",
    "    elif classname.find('BatchNorm') != -1:\n",
    "        init.normal_(m.weight.data, 1.0, 0.02)\n",
    "        init.constant_(m.bias.data, 0.0)\n",
    "\n",
    "\n",
    "def weights_init_kaiming(m):\n",
    "    classname = m.__class__.__name__\n",
    "    #print(classname)\n",
    "    if classname.find('Conv') != -1:\n",
    "        init.kaiming_normal_(m.weight.data, a=0, mode='fan_in')\n",
    "    elif classname.find('Linear') != -1:\n",
    "        init.kaiming_normal_(m.weight.data, a=0, mode='fan_in')\n",
    "    elif classname.find('BatchNorm') != -1:\n",
    "        init.normal_(m.weight.data, 1.0, 0.02)\n",
    "        init.constant_(m.bias.data, 0.0)\n",
    "\n",
    "\n",
    "def weights_init_orthogonal(m):\n",
    "    classname = m.__class__.__name__\n",
    "    #print(classname)\n",
    "    if classname.find('Conv') != -1:\n",
    "        init.orthogonal_(m.weight.data, gain=1)\n",
    "    elif classname.find('Linear') != -1:\n",
    "        init.orthogonal_(m.weight.data, gain=1)\n",
    "    elif classname.find('BatchNorm') != -1:\n",
    "        init.normal_(m.weight.data, 1.0, 0.02)\n",
    "        init.constant_(m.bias.data, 0.0)"
   ]
  },
  {
   "cell_type": "code",
   "execution_count": 12,
   "metadata": {
    "execution": {
     "iopub.execute_input": "2024-11-19T17:23:41.488927Z",
     "iopub.status.busy": "2024-11-19T17:23:41.488558Z",
     "iopub.status.idle": "2024-11-19T17:23:41.501993Z",
     "shell.execute_reply": "2024-11-19T17:23:41.501233Z",
     "shell.execute_reply.started": "2024-11-19T17:23:41.488879Z"
    },
    "trusted": true
   },
   "outputs": [],
   "source": [
    "def init_weights(net, init_type='normal'):\n",
    "    #print('initialization method [%s]' % init_type)\n",
    "    if init_type == 'normal':\n",
    "        net.apply(weights_init_normal)\n",
    "    elif init_type == 'xavier':\n",
    "        net.apply(weights_init_xavier)\n",
    "    elif init_type == 'kaiming':\n",
    "        net.apply(weights_init_kaiming)\n",
    "    elif init_type == 'orthogonal':\n",
    "        net.apply(weights_init_orthogonal)\n",
    "    else:\n",
    "        raise NotImplementedError('initialization method [%s] is not implemented' % init_type)"
   ]
  },
  {
   "cell_type": "code",
   "execution_count": 13,
   "metadata": {
    "execution": {
     "iopub.execute_input": "2024-11-19T17:23:41.503465Z",
     "iopub.status.busy": "2024-11-19T17:23:41.503123Z",
     "iopub.status.idle": "2024-11-19T17:23:41.514869Z",
     "shell.execute_reply": "2024-11-19T17:23:41.514202Z",
     "shell.execute_reply.started": "2024-11-19T17:23:41.503428Z"
    },
    "trusted": true
   },
   "outputs": [],
   "source": [
    "class unetConv2(nn.Module):\n",
    "    def __init__(self, in_size, out_size, is_batchnorm, n=2, ks=3, stride=1, padding=1):\n",
    "        super(unetConv2, self).__init__()\n",
    "        self.n = n\n",
    "        self.ks = ks\n",
    "        self.stride = stride\n",
    "        self.padding = padding\n",
    "        s = stride\n",
    "        p = padding\n",
    "        if is_batchnorm:\n",
    "            for i in range(1, n + 1):\n",
    "                conv = nn.Sequential(nn.Conv2d(in_size, out_size, ks, s, p),\n",
    "                                     nn.BatchNorm2d(out_size),\n",
    "                                     nn.ReLU(inplace=True), )\n",
    "                setattr(self, 'conv%d' % i, conv)\n",
    "                in_size = out_size\n",
    "\n",
    "        else:\n",
    "            for i in range(1, n + 1):\n",
    "                conv = nn.Sequential(nn.Conv2d(in_size, out_size, ks, s, p),\n",
    "                                     nn.ReLU(inplace=True), )\n",
    "                setattr(self, 'conv%d' % i, conv)\n",
    "                in_size = out_size\n",
    "\n",
    "        # initialise the blocks\n",
    "        for m in self.children():\n",
    "            init_weights(m, init_type='kaiming')\n",
    "\n",
    "    def forward(self, inputs):\n",
    "        x = inputs\n",
    "        for i in range(1, self.n + 1):\n",
    "            conv = getattr(self, 'conv%d' % i)\n",
    "            x = conv(x)\n",
    "\n",
    "        return x"
   ]
  },
  {
   "cell_type": "code",
   "execution_count": 14,
   "metadata": {
    "execution": {
     "iopub.execute_input": "2024-11-19T17:23:41.519107Z",
     "iopub.status.busy": "2024-11-19T17:23:41.518853Z",
     "iopub.status.idle": "2024-11-19T17:23:41.552250Z",
     "shell.execute_reply": "2024-11-19T17:23:41.551497Z",
     "shell.execute_reply.started": "2024-11-19T17:23:41.519083Z"
    },
    "trusted": true
   },
   "outputs": [],
   "source": [
    "class UNet_3Plus(nn.Module):\n",
    "\n",
    "    def __init__(self, in_channels=3, n_classes=1, feature_scale=4, is_deconv=True, is_batchnorm=True):\n",
    "        super(UNet_3Plus, self).__init__()\n",
    "        self.is_deconv = is_deconv\n",
    "        self.in_channels = in_channels\n",
    "        self.is_batchnorm = is_batchnorm\n",
    "        self.feature_scale = feature_scale\n",
    "\n",
    "        filters = [64, 128, 256, 512, 1024]\n",
    "\n",
    "        ## -------------Encoder--------------\n",
    "        self.conv1 = unetConv2(self.in_channels, filters[0], self.is_batchnorm)\n",
    "        self.maxpool1 = nn.MaxPool2d(kernel_size=2)\n",
    "\n",
    "        self.conv2 = unetConv2(filters[0], filters[1], self.is_batchnorm)\n",
    "        self.maxpool2 = nn.MaxPool2d(kernel_size=2)\n",
    "\n",
    "        self.conv3 = unetConv2(filters[1], filters[2], self.is_batchnorm)\n",
    "        self.maxpool3 = nn.MaxPool2d(kernel_size=2)\n",
    "\n",
    "        self.conv4 = unetConv2(filters[2], filters[3], self.is_batchnorm)\n",
    "        self.maxpool4 = nn.MaxPool2d(kernel_size=2)\n",
    "\n",
    "        self.conv5 = unetConv2(filters[3], filters[4], self.is_batchnorm)\n",
    "\n",
    "        ## -------------Decoder--------------\n",
    "        self.CatChannels = filters[0]\n",
    "        self.CatBlocks = 5\n",
    "        self.UpChannels = self.CatChannels * self.CatBlocks\n",
    "\n",
    "        '''stage 4d'''\n",
    "        # h1->320*320, hd4->40*40, Pooling 8 times\n",
    "        self.h1_PT_hd4 = nn.MaxPool2d(8, 8, ceil_mode=True)\n",
    "        self.h1_PT_hd4_conv = nn.Conv2d(filters[0], self.CatChannels, 3, padding=1)\n",
    "        self.h1_PT_hd4_bn = nn.BatchNorm2d(self.CatChannels)\n",
    "        self.h1_PT_hd4_relu = nn.ReLU(inplace=True)\n",
    "\n",
    "        # h2->160*160, hd4->40*40, Pooling 4 times\n",
    "        self.h2_PT_hd4 = nn.MaxPool2d(4, 4, ceil_mode=True)\n",
    "        self.h2_PT_hd4_conv = nn.Conv2d(filters[1], self.CatChannels, 3, padding=1)\n",
    "        self.h2_PT_hd4_bn = nn.BatchNorm2d(self.CatChannels)\n",
    "        self.h2_PT_hd4_relu = nn.ReLU(inplace=True)\n",
    "\n",
    "        # h3->80*80, hd4->40*40, Pooling 2 times\n",
    "        self.h3_PT_hd4 = nn.MaxPool2d(2, 2, ceil_mode=True)\n",
    "        self.h3_PT_hd4_conv = nn.Conv2d(filters[2], self.CatChannels, 3, padding=1)\n",
    "        self.h3_PT_hd4_bn = nn.BatchNorm2d(self.CatChannels)\n",
    "        self.h3_PT_hd4_relu = nn.ReLU(inplace=True)\n",
    "\n",
    "        # h4->40*40, hd4->40*40, Concatenation\n",
    "        self.h4_Cat_hd4_conv = nn.Conv2d(filters[3], self.CatChannels, 3, padding=1)\n",
    "        self.h4_Cat_hd4_bn = nn.BatchNorm2d(self.CatChannels)\n",
    "        self.h4_Cat_hd4_relu = nn.ReLU(inplace=True)\n",
    "\n",
    "        # hd5->20*20, hd4->40*40, Upsample 2 times\n",
    "        self.hd5_UT_hd4 = nn.Upsample(scale_factor=2, mode='bilinear')  # 14*14\n",
    "        self.hd5_UT_hd4_conv = nn.Conv2d(filters[4], self.CatChannels, 3, padding=1)\n",
    "        self.hd5_UT_hd4_bn = nn.BatchNorm2d(self.CatChannels)\n",
    "        self.hd5_UT_hd4_relu = nn.ReLU(inplace=True)\n",
    "\n",
    "        # fusion(h1_PT_hd4, h2_PT_hd4, h3_PT_hd4, h4_Cat_hd4, hd5_UT_hd4)\n",
    "        self.conv4d_1 = nn.Conv2d(self.UpChannels, self.UpChannels, 3, padding=1)  # 16\n",
    "        self.bn4d_1 = nn.BatchNorm2d(self.UpChannels)\n",
    "        self.relu4d_1 = nn.ReLU(inplace=True)\n",
    "\n",
    "        '''stage 3d'''\n",
    "        # h1->320*320, hd3->80*80, Pooling 4 times\n",
    "        self.h1_PT_hd3 = nn.MaxPool2d(4, 4, ceil_mode=True)\n",
    "        self.h1_PT_hd3_conv = nn.Conv2d(filters[0], self.CatChannels, 3, padding=1)\n",
    "        self.h1_PT_hd3_bn = nn.BatchNorm2d(self.CatChannels)\n",
    "        self.h1_PT_hd3_relu = nn.ReLU(inplace=True)\n",
    "\n",
    "        # h2->160*160, hd3->80*80, Pooling 2 times\n",
    "        self.h2_PT_hd3 = nn.MaxPool2d(2, 2, ceil_mode=True)\n",
    "        self.h2_PT_hd3_conv = nn.Conv2d(filters[1], self.CatChannels, 3, padding=1)\n",
    "        self.h2_PT_hd3_bn = nn.BatchNorm2d(self.CatChannels)\n",
    "        self.h2_PT_hd3_relu = nn.ReLU(inplace=True)\n",
    "\n",
    "        # h3->80*80, hd3->80*80, Concatenation\n",
    "        self.h3_Cat_hd3_conv = nn.Conv2d(filters[2], self.CatChannels, 3, padding=1)\n",
    "        self.h3_Cat_hd3_bn = nn.BatchNorm2d(self.CatChannels)\n",
    "        self.h3_Cat_hd3_relu = nn.ReLU(inplace=True)\n",
    "        \n",
    "        # hd4->40*40, hd3->80*80, Upsample 2 times\n",
    "        self.hd4_UT_hd3 = nn.Upsample(scale_factor=2, mode='bilinear')  # 14*14\n",
    "        self.hd4_UT_hd3_conv = nn.Conv2d(self.UpChannels, self.CatChannels, 3, padding=1)\n",
    "        self.hd4_UT_hd3_bn = nn.BatchNorm2d(self.CatChannels)\n",
    "        self.hd4_UT_hd3_relu = nn.ReLU(inplace=True)\n",
    "\n",
    "        # hd5->20*20, hd2->80*80, Upsample 4 times\n",
    "        self.hd5_UT_hd3 = nn.Upsample(scale_factor=4, mode='bilinear')  # 14*14\n",
    "        self.hd5_UT_hd3_conv = nn.Conv2d(filters[4], self.CatChannels, 3, padding=1)\n",
    "        self.hd5_UT_hd3_bn = nn.BatchNorm2d(self.CatChannels)\n",
    "        self.hd5_UT_hd3_relu = nn.ReLU(inplace=True)\n",
    "        \n",
    "        # fusion(h1_PT_hd2, h2_Cat_hd2, hd3_UT_hd2, hd4_UT_hd2, hd5_UT_hd2)\n",
    "        self.conv3d_1 = nn.Conv2d(self.UpChannels, self.UpChannels, 3, padding=1)  # 16\n",
    "        self.bn3d_1 = nn.BatchNorm2d(self.UpChannels)\n",
    "        self.relu3d_1 = nn.ReLU(inplace=True)\n",
    "\n",
    "        '''stage 2d'''\n",
    "        # h1->360*360, hd2->160*160, Pooling 2 times\n",
    "        self.h1_PT_hd2 = nn.MaxPool2d(2, 2, ceil_mode=True)\n",
    "        self.h1_PT_hd2_conv = nn.Conv2d(filters[0], self.CatChannels, 3, padding=1)\n",
    "        self.h1_PT_hd2_bn = nn.BatchNorm2d(self.CatChannels)\n",
    "        self.h1_PT_hd2_relu = nn.ReLU(inplace=True)\n",
    "        \n",
    "        # h2->160*160, hd2->160*160, Concatenation\n",
    "        self.h2_Cat_hd2_conv = nn.Conv2d(filters[1], self.CatChannels, 3, padding=1)\n",
    "        self.h2_Cat_hd2_bn = nn.BatchNorm2d(self.CatChannels)\n",
    "        self.h2_Cat_hd2_relu = nn.ReLU(inplace=True)\n",
    "\n",
    "        # hd3->80*80, hd2->160*160, Upsample 2 times\n",
    "        self.hd3_UT_hd2 = nn.Upsample(scale_factor=2, mode='bilinear')  # 14*14\n",
    "        self.hd3_UT_hd2_conv = nn.Conv2d(self.UpChannels, self.CatChannels, 3, padding=1)\n",
    "        self.hd3_UT_hd2_bn = nn.BatchNorm2d(self.CatChannels)\n",
    "        self.hd3_UT_hd2_relu = nn.ReLU(inplace=True)\n",
    "\n",
    "        # hd4->40*40, hd2->160*160, Upsample 4 times\n",
    "        self.hd4_UT_hd2 = nn.Upsample(scale_factor=4, mode='bilinear')  # 14*14\n",
    "        self.hd4_UT_hd2_conv = nn.Conv2d(self.UpChannels, self.CatChannels, 3, padding=1)\n",
    "        self.hd4_UT_hd2_bn = nn.BatchNorm2d(self.CatChannels)\n",
    "        self.hd4_UT_hd2_relu = nn.ReLU(inplace=True)\n",
    "\n",
    "        # hd5->20*20, hd2->160*160, Upsample 8 times\n",
    "        self.hd5_UT_hd2 = nn.Upsample(scale_factor=8, mode='bilinear')  # 14*14\n",
    "        self.hd5_UT_hd2_conv = nn.Conv2d(filters[4], self.CatChannels, 3, padding=1)\n",
    "        self.hd5_UT_hd2_bn = nn.BatchNorm2d(self.CatChannels)\n",
    "        self.hd5_UT_hd2_relu = nn.ReLU(inplace=True)\n",
    "\n",
    "        # fusion(h1_PT_hd2, h2_Cat_hd2, hd3_UT_hd2, hd4_UT_hd2, hd5_UT_hd2)\n",
    "        self.conv2d_1 = nn.Conv2d(self.UpChannels, self.UpChannels, 3, padding=1)  # 16\n",
    "        self.bn2d_1 = nn.BatchNorm2d(self.UpChannels)\n",
    "        self.relu2d_1 = nn.ReLU(inplace=True)\n",
    "\n",
    "        '''stage 1d'''\n",
    "        # h1->320*320, hd1->320*320, Concatenation\n",
    "        self.h1_Cat_hd1_conv = nn.Conv2d(filters[0], self.CatChannels, 3, padding=1)\n",
    "        self.h1_Cat_hd1_bn = nn.BatchNorm2d(self.CatChannels)\n",
    "        self.h1_Cat_hd1_relu = nn.ReLU(inplace=True)\n",
    "\n",
    "        # hd2->160*160, hd1->320*320, Upsample 2 times\n",
    "        self.hd2_UT_hd1 = nn.Upsample(scale_factor=2, mode='bilinear')  # 14*14\n",
    "        self.hd2_UT_hd1_conv = nn.Conv2d(self.UpChannels, self.CatChannels, 3, padding=1)\n",
    "        self.hd2_UT_hd1_bn = nn.BatchNorm2d(self.CatChannels)\n",
    "        self.hd2_UT_hd1_relu = nn.ReLU(inplace=True)\n",
    "\n",
    "        # hd3->80*80, hd1->320*320, Upsample 4 times\n",
    "        self.hd3_UT_hd1 = nn.Upsample(scale_factor=4, mode='bilinear')  # 14*14\n",
    "        self.hd3_UT_hd1_conv = nn.Conv2d(self.UpChannels, self.CatChannels, 3, padding=1)\n",
    "        self.hd3_UT_hd1_bn = nn.BatchNorm2d(self.CatChannels)\n",
    "        self.hd3_UT_hd1_relu = nn.ReLU(inplace=True)\n",
    "\n",
    "        # hd4->40*40, hd1->320*320, Upsample 8 times\n",
    "        self.hd4_UT_hd1 = nn.Upsample(scale_factor=8, mode='bilinear')  # 14*14\n",
    "        self.hd4_UT_hd1_conv = nn.Conv2d(self.UpChannels, self.CatChannels, 3, padding=1)\n",
    "        self.hd4_UT_hd1_bn = nn.BatchNorm2d(self.CatChannels)\n",
    "        self.hd4_UT_hd1_relu = nn.ReLU(inplace=True)\n",
    "\n",
    "        # hd5->20*20, hd1->320*320, Upsample 16 times\n",
    "        self.hd5_UT_hd1 = nn.Upsample(scale_factor=16, mode='bilinear')  # 14*14\n",
    "        self.hd5_UT_hd1_conv = nn.Conv2d(filters[4], self.CatChannels, 3, padding=1)\n",
    "        self.hd5_UT_hd1_bn = nn.BatchNorm2d(self.CatChannels)\n",
    "        self.hd5_UT_hd1_relu = nn.ReLU(inplace=True)\n",
    "\n",
    "        # fusion(h1_Cat_hd1, hd2_UT_hd1, hd3_UT_hd1, hd4_UT_hd1, hd5_UT_hd1)\n",
    "        self.conv1d_1 = nn.Conv2d(self.UpChannels, self.UpChannels, 3, padding=1)  # 16\n",
    "        self.bn1d_1 = nn.BatchNorm2d(self.UpChannels)\n",
    "        self.relu1d_1 = nn.ReLU(inplace=True)\n",
    "\n",
    "        # output\n",
    "        self.outconv1 = nn.Conv2d(self.UpChannels, n_classes, 3, padding=1)\n",
    "\n",
    "        # initialise weights\n",
    "        for m in self.modules():\n",
    "            if isinstance(m, nn.Conv2d):\n",
    "                init_weights(m, init_type='kaiming')\n",
    "            elif isinstance(m, nn.BatchNorm2d):\n",
    "                init_weights(m, init_type='kaiming')\n",
    "\n",
    "    def forward(self, inputs):\n",
    "        ## -------------Encoder-------------\n",
    "        h1 = self.conv1(inputs)  # h1->320*320*64\n",
    "\n",
    "        h2 = self.maxpool1(h1)\n",
    "        h2 = self.conv2(h2)  # h2->160*160*128\n",
    "\n",
    "        h3 = self.maxpool2(h2)\n",
    "        h3 = self.conv3(h3)  # h3->80*80*256\n",
    "\n",
    "        h4 = self.maxpool3(h3)\n",
    "        h4 = self.conv4(h4)  # h4->40*40*512\n",
    "\n",
    "        h5 = self.maxpool4(h4)\n",
    "        hd5 = self.conv5(h5)  # h5->20*20*1024\n",
    "\n",
    "        ## -------------Decoder-------------\n",
    "        h1_PT_hd4 = self.h1_PT_hd4_relu(self.h1_PT_hd4_bn(self.h1_PT_hd4_conv(self.h1_PT_hd4(h1))))\n",
    "        h2_PT_hd4 = self.h2_PT_hd4_relu(self.h2_PT_hd4_bn(self.h2_PT_hd4_conv(self.h2_PT_hd4(h2))))\n",
    "        h3_PT_hd4 = self.h3_PT_hd4_relu(self.h3_PT_hd4_bn(self.h3_PT_hd4_conv(self.h3_PT_hd4(h3))))\n",
    "        h4_Cat_hd4 = self.h4_Cat_hd4_relu(self.h4_Cat_hd4_bn(self.h4_Cat_hd4_conv(h4)))\n",
    "        hd5_UT_hd4 = self.hd5_UT_hd4_relu(self.hd5_UT_hd4_bn(self.hd5_UT_hd4_conv(self.hd5_UT_hd4(hd5))))\n",
    "        hd4 = self.relu4d_1(self.bn4d_1(self.conv4d_1(\n",
    "            torch.cat((h1_PT_hd4, h2_PT_hd4, h3_PT_hd4, h4_Cat_hd4, hd5_UT_hd4), 1)))) # hd4->40*40*UpChannels\n",
    "\n",
    "        h1_PT_hd3 = self.h1_PT_hd3_relu(self.h1_PT_hd3_bn(self.h1_PT_hd3_conv(self.h1_PT_hd3(h1))))\n",
    "        h2_PT_hd3 = self.h2_PT_hd3_relu(self.h2_PT_hd3_bn(self.h2_PT_hd3_conv(self.h2_PT_hd3(h2))))\n",
    "        h3_Cat_hd3 = self.h3_Cat_hd3_relu(self.h3_Cat_hd3_bn(self.h3_Cat_hd3_conv(h3)))\n",
    "        hd4_UT_hd3 = self.hd4_UT_hd3_relu(self.hd4_UT_hd3_bn(self.hd4_UT_hd3_conv(self.hd4_UT_hd3(hd4))))\n",
    "        hd5_UT_hd3 = self.hd5_UT_hd3_relu(self.hd5_UT_hd3_bn(self.hd5_UT_hd3_conv(self.hd5_UT_hd3(hd5))))\n",
    "        hd3 = self.relu3d_1(self.bn3d_1(self.conv3d_1(\n",
    "            torch.cat((h1_PT_hd3, h2_PT_hd3, h3_Cat_hd3, hd4_UT_hd3, hd5_UT_hd3), 1)))) # hd3->80*80*UpChannels\n",
    "\n",
    "        h1_PT_hd2 = self.h1_PT_hd2_relu(self.h1_PT_hd2_bn(self.h1_PT_hd2_conv(self.h1_PT_hd2(h1))))\n",
    "        h2_Cat_hd2 = self.h2_Cat_hd2_relu(self.h2_Cat_hd2_bn(self.h2_Cat_hd2_conv(h2)))\n",
    "        hd3_UT_hd2 = self.hd3_UT_hd2_relu(self.hd3_UT_hd2_bn(self.hd3_UT_hd2_conv(self.hd3_UT_hd2(hd3))))\n",
    "        hd4_UT_hd2 = self.hd4_UT_hd2_relu(self.hd4_UT_hd2_bn(self.hd4_UT_hd2_conv(self.hd4_UT_hd2(hd4))))\n",
    "        hd5_UT_hd2 = self.hd5_UT_hd2_relu(self.hd5_UT_hd2_bn(self.hd5_UT_hd2_conv(self.hd5_UT_hd2(hd5))))\n",
    "        hd2 = self.relu2d_1(self.bn2d_1(self.conv2d_1(\n",
    "            torch.cat((h1_PT_hd2, h2_Cat_hd2, hd3_UT_hd2, hd4_UT_hd2, hd5_UT_hd2), 1)))) # hd2->160*160*UpChannels\n",
    "\n",
    "        h1_Cat_hd1 = self.h1_Cat_hd1_relu(self.h1_Cat_hd1_bn(self.h1_Cat_hd1_conv(h1)))\n",
    "        hd2_UT_hd1 = self.hd2_UT_hd1_relu(self.hd2_UT_hd1_bn(self.hd2_UT_hd1_conv(self.hd2_UT_hd1(hd2))))\n",
    "        hd3_UT_hd1 = self.hd3_UT_hd1_relu(self.hd3_UT_hd1_bn(self.hd3_UT_hd1_conv(self.hd3_UT_hd1(hd3))))\n",
    "        hd4_UT_hd1 = self.hd4_UT_hd1_relu(self.hd4_UT_hd1_bn(self.hd4_UT_hd1_conv(self.hd4_UT_hd1(hd4))))\n",
    "        hd5_UT_hd1 = self.hd5_UT_hd1_relu(self.hd5_UT_hd1_bn(self.hd5_UT_hd1_conv(self.hd5_UT_hd1(hd5))))\n",
    "        hd1 = self.relu1d_1(self.bn1d_1(self.conv1d_1(\n",
    "            torch.cat((h1_Cat_hd1, hd2_UT_hd1, hd3_UT_hd1, hd4_UT_hd1, hd5_UT_hd1), 1)))) # hd1->320*320*UpChannels\n",
    "\n",
    "        d1 = self.outconv1(hd1)  # d1->320*320*n_classes\n",
    "        return F.sigmoid(d1)"
   ]
  },
  {
   "cell_type": "markdown",
   "metadata": {},
   "source": [
    "## Metrics for testing data"
   ]
  },
  {
   "cell_type": "code",
   "execution_count": 15,
   "metadata": {
    "execution": {
     "iopub.execute_input": "2024-11-19T17:23:41.553363Z",
     "iopub.status.busy": "2024-11-19T17:23:41.553152Z",
     "iopub.status.idle": "2024-11-19T17:23:41.565928Z",
     "shell.execute_reply": "2024-11-19T17:23:41.565150Z",
     "shell.execute_reply.started": "2024-11-19T17:23:41.553342Z"
    },
    "trusted": true
   },
   "outputs": [],
   "source": [
    "def accuracy(pred, target):\n",
    "    pred_binary = pred > 0.5  # Assuming threshold of 0.5 for binary segmentation\n",
    "    correct = (pred_binary == target).sum().item()\n",
    "    total = target.numel()\n",
    "    return correct / total"
   ]
  },
  {
   "cell_type": "code",
   "execution_count": 16,
   "metadata": {
    "execution": {
     "iopub.execute_input": "2024-11-19T17:23:41.567096Z",
     "iopub.status.busy": "2024-11-19T17:23:41.566871Z",
     "iopub.status.idle": "2024-11-19T17:23:41.578774Z",
     "shell.execute_reply": "2024-11-19T17:23:41.577942Z",
     "shell.execute_reply.started": "2024-11-19T17:23:41.567073Z"
    },
    "trusted": true
   },
   "outputs": [],
   "source": [
    "def sensitivity(pred, target):\n",
    "    pred_binary = pred > 0.5\n",
    "    TP = ((pred_binary == 1) & (target == 1)).sum().item()\n",
    "    FN = ((pred_binary == 0) & (target == 1)).sum().item()\n",
    "    return TP / (TP + FN + 1e-8)"
   ]
  },
  {
   "cell_type": "code",
   "execution_count": 17,
   "metadata": {
    "execution": {
     "iopub.execute_input": "2024-11-19T17:23:41.579972Z",
     "iopub.status.busy": "2024-11-19T17:23:41.579634Z",
     "iopub.status.idle": "2024-11-19T17:23:41.588758Z",
     "shell.execute_reply": "2024-11-19T17:23:41.587850Z",
     "shell.execute_reply.started": "2024-11-19T17:23:41.579937Z"
    },
    "trusted": true
   },
   "outputs": [],
   "source": [
    "def specificity(pred, target):\n",
    "    pred_binary = pred > 0.5\n",
    "    TN = ((pred_binary == 0) & (target == 0)).sum().item()\n",
    "    FP = ((pred_binary == 1) & (target == 0)).sum().item()\n",
    "    return TN / (TN + FP + 1e-8)"
   ]
  },
  {
   "cell_type": "code",
   "execution_count": 18,
   "metadata": {
    "execution": {
     "iopub.execute_input": "2024-11-19T17:23:41.589937Z",
     "iopub.status.busy": "2024-11-19T17:23:41.589700Z",
     "iopub.status.idle": "2024-11-19T17:23:41.599031Z",
     "shell.execute_reply": "2024-11-19T17:23:41.598354Z",
     "shell.execute_reply.started": "2024-11-19T17:23:41.589914Z"
    },
    "trusted": true
   },
   "outputs": [],
   "source": [
    "def mcc(pred, target):\n",
    "    pred_binary = pred > 0.5\n",
    "    TP = ((pred_binary == 1) & (target == 1)).sum().item()\n",
    "    TN = ((pred_binary == 0) & (target == 0)).sum().item()\n",
    "    FP = ((pred_binary == 1) & (target == 0)).sum().item()\n",
    "    FN = ((pred_binary == 0) & (target == 1)).sum().item()\n",
    "    numerator = (TP * TN) - (FP * FN)\n",
    "    denominator = math.sqrt((TP + FP) * (TP + FN) * (TN + FP) * (TN + FN) + 1e-8)\n",
    "    return numerator / denominator if denominator else 0"
   ]
  },
  {
   "cell_type": "code",
   "execution_count": 19,
   "metadata": {
    "execution": {
     "iopub.execute_input": "2024-11-19T17:23:41.600313Z",
     "iopub.status.busy": "2024-11-19T17:23:41.599993Z",
     "iopub.status.idle": "2024-11-19T17:23:41.610718Z",
     "shell.execute_reply": "2024-11-19T17:23:41.609915Z",
     "shell.execute_reply.started": "2024-11-19T17:23:41.600277Z"
    },
    "trusted": true
   },
   "outputs": [],
   "source": [
    "def iou(pred, target):\n",
    "    # Convert tensors to boolean by comparing with a threshold\n",
    "    pred_binary = (pred > 0.5).bool()\n",
    "    target_binary = target.bool()\n",
    "    \n",
    "    # Calculate intersection and union\n",
    "    intersection = (pred_binary & target_binary).sum().item()\n",
    "    union = (pred_binary | target_binary).sum().item()\n",
    "    \n",
    "    # Return IoU score\n",
    "    return intersection / (union + 1e-8)"
   ]
  },
  {
   "cell_type": "code",
   "execution_count": 20,
   "metadata": {
    "execution": {
     "iopub.execute_input": "2024-11-19T17:23:41.611867Z",
     "iopub.status.busy": "2024-11-19T17:23:41.611599Z",
     "iopub.status.idle": "2024-11-19T17:23:41.621405Z",
     "shell.execute_reply": "2024-11-19T17:23:41.620620Z",
     "shell.execute_reply.started": "2024-11-19T17:23:41.611844Z"
    },
    "trusted": true
   },
   "outputs": [],
   "source": [
    "def dice_coefficient(pred, target):\n",
    "    pred_binary = (pred > 0.5).bool()\n",
    "    target_binary = target.bool()  # Ensure target is also a boolean tensor\n",
    "    intersection = (pred_binary & target_binary).sum().item()\n",
    "    return (2 * intersection) / (pred_binary.sum().item() + target_binary.sum().item() + 1e-8)\n"
   ]
  },
  {
   "cell_type": "code",
   "execution_count": 21,
   "metadata": {
    "execution": {
     "iopub.execute_input": "2024-11-19T17:23:41.622423Z",
     "iopub.status.busy": "2024-11-19T17:23:41.622201Z",
     "iopub.status.idle": "2024-11-19T17:23:41.631233Z",
     "shell.execute_reply": "2024-11-19T17:23:41.630442Z",
     "shell.execute_reply.started": "2024-11-19T17:23:41.622401Z"
    },
    "trusted": true
   },
   "outputs": [],
   "source": [
    "def ppv(pred, target):\n",
    "    pred_binary = pred > 0.5\n",
    "    TP = ((pred_binary == 1) & (target == 1)).sum().item()\n",
    "    FP = ((pred_binary == 1) & (target == 0)).sum().item()\n",
    "    return TP / (TP + FP + 1e-8)"
   ]
  },
  {
   "cell_type": "markdown",
   "metadata": {},
   "source": [
    "## Tensorboard"
   ]
  },
  {
   "cell_type": "code",
   "execution_count": 22,
   "metadata": {
    "execution": {
     "iopub.execute_input": "2024-11-19T17:23:41.632940Z",
     "iopub.status.busy": "2024-11-19T17:23:41.632346Z",
     "iopub.status.idle": "2024-11-19T17:23:42.641932Z",
     "shell.execute_reply": "2024-11-19T17:23:42.640736Z",
     "shell.execute_reply.started": "2024-11-19T17:23:41.632914Z"
    },
    "trusted": true
   },
   "outputs": [
    {
     "name": "stderr",
     "output_type": "stream",
     "text": [
      "/opt/conda/lib/python3.10/pty.py:89: RuntimeWarning: os.fork() was called. os.fork() is incompatible with multithreaded code, and JAX is multithreaded, so this will likely lead to a deadlock.\n",
      "  pid, fd = os.forkpty()\n"
     ]
    }
   ],
   "source": [
    "!rm -rf /kaggle/working/logs"
   ]
  },
  {
   "cell_type": "code",
   "execution_count": 23,
   "metadata": {
    "execution": {
     "iopub.execute_input": "2024-11-19T17:23:42.643844Z",
     "iopub.status.busy": "2024-11-19T17:23:42.643523Z",
     "iopub.status.idle": "2024-11-19T17:23:43.648620Z",
     "shell.execute_reply": "2024-11-19T17:23:43.647050Z",
     "shell.execute_reply.started": "2024-11-19T17:23:42.643817Z"
    },
    "trusted": true
   },
   "outputs": [],
   "source": [
    "!mkdir /kaggle/working/logs"
   ]
  },
  {
   "cell_type": "code",
   "execution_count": 24,
   "metadata": {
    "execution": {
     "iopub.execute_input": "2024-11-19T17:23:43.650580Z",
     "iopub.status.busy": "2024-11-19T17:23:43.650256Z",
     "iopub.status.idle": "2024-11-19T17:23:46.779608Z",
     "shell.execute_reply": "2024-11-19T17:23:46.778563Z",
     "shell.execute_reply.started": "2024-11-19T17:23:43.650549Z"
    },
    "trusted": true
   },
   "outputs": [
    {
     "name": "stdout",
     "output_type": "stream",
     "text": [
      "--2024-11-19 17:23:44--  https://bin.equinox.io/c/bNyj1mQVY4c/ngrok-v3-stable-linux-amd64.tgz\n",
      "Resolving bin.equinox.io (bin.equinox.io)... 99.83.220.108, 35.71.179.82, 13.248.244.96, ...\n",
      "Connecting to bin.equinox.io (bin.equinox.io)|99.83.220.108|:443... connected.\n",
      "HTTP request sent, awaiting response... 200 OK\n",
      "Length: 14796857 (14M) [application/octet-stream]\n",
      "Saving to: 'ngrok-v3-stable-linux-amd64.tgz'\n",
      "\n",
      "ngrok-v3-stable-lin 100%[===================>]  14.11M  30.7MB/s    in 0.5s    \n",
      "\n",
      "2024-11-19 17:23:45 (30.7 MB/s) - 'ngrok-v3-stable-linux-amd64.tgz' saved [14796857/14796857]\n",
      "\n",
      "ngrok\n"
     ]
    }
   ],
   "source": [
    "!wget https://bin.equinox.io/c/bNyj1mQVY4c/ngrok-v3-stable-linux-amd64.tgz\n",
    "!tar -xvzf ngrok-v3-stable-linux-amd64.tgz"
   ]
  },
  {
   "cell_type": "code",
   "execution_count": null,
   "metadata": {
    "execution": {
     "iopub.execute_input": "2024-11-19T17:23:46.781339Z",
     "iopub.status.busy": "2024-11-19T17:23:46.781037Z",
     "iopub.status.idle": "2024-11-19T17:23:47.812870Z",
     "shell.execute_reply": "2024-11-19T17:23:47.811757Z",
     "shell.execute_reply.started": "2024-11-19T17:23:46.781310Z"
    },
    "trusted": true
   },
   "outputs": [
    {
     "name": "stdout",
     "output_type": "stream",
     "text": [
      "Authtoken saved to configuration file: /root/.config/ngrok/ngrok.yml\n"
     ]
    }
   ],
   "source": [
    "!./ngrok config add-authtoken \"API TOKEN\""
   ]
  },
  {
   "cell_type": "code",
   "execution_count": 26,
   "metadata": {
    "execution": {
     "iopub.execute_input": "2024-11-19T17:23:47.814574Z",
     "iopub.status.busy": "2024-11-19T17:23:47.814259Z",
     "iopub.status.idle": "2024-11-19T17:23:47.995193Z",
     "shell.execute_reply": "2024-11-19T17:23:47.991812Z",
     "shell.execute_reply.started": "2024-11-19T17:23:47.814546Z"
    },
    "trusted": true
   },
   "outputs": [
    {
     "name": "stderr",
     "output_type": "stream",
     "text": [
      "/opt/conda/lib/python3.10/multiprocessing/popen_fork.py:66: RuntimeWarning: os.fork() was called. os.fork() is incompatible with multithreaded code, and JAX is multithreaded, so this will likely lead to a deadlock.\n",
      "  self.pid = os.fork()\n"
     ]
    }
   ],
   "source": [
    "import os\n",
    "import multiprocessing\n",
    "\n",
    "\n",
    "pool = multiprocessing.Pool(processes = 10)\n",
    "results_of_processes = [pool.apply_async(os.system, args=(cmd, ), callback = None )\n",
    "                        for cmd in [\n",
    "                        f\"tensorboard --logdir /kaggle/working/logs --host 0.0.0.0 --port 6006 &\",\n",
    "                        \"./ngrok http 6006 &\"\n",
    "                        ]]\n"
   ]
  },
  {
   "cell_type": "code",
   "execution_count": 27,
   "metadata": {
    "execution": {
     "iopub.execute_input": "2024-11-19T17:23:47.999219Z",
     "iopub.status.busy": "2024-11-19T17:23:47.998750Z",
     "iopub.status.idle": "2024-11-19T17:23:49.250980Z",
     "shell.execute_reply": "2024-11-19T17:23:49.249800Z",
     "shell.execute_reply.started": "2024-11-19T17:23:47.999174Z"
    },
    "trusted": true
   },
   "outputs": [
    {
     "name": "stdout",
     "output_type": "stream",
     "text": [
      "https://92e6-34-105-93-21.ngrok-free.app\n"
     ]
    }
   ],
   "source": [
    "! curl -s http://localhost:4040/api/tunnels | python3 -c \\\n",
    "    \"import sys, json; print(json.load(sys.stdin)['tunnels'][0]['public_url'])\""
   ]
  },
  {
   "cell_type": "markdown",
   "metadata": {},
   "source": [
    "## Training model"
   ]
  },
  {
   "cell_type": "code",
   "execution_count": null,
   "metadata": {
    "execution": {
     "iopub.execute_input": "2024-11-19T17:23:49.253446Z",
     "iopub.status.busy": "2024-11-19T17:23:49.253116Z"
    },
    "trusted": true
   },
   "outputs": [
    {
     "name": "stderr",
     "output_type": "stream",
     "text": [
      "/tmp/ipykernel_30/1390238946.py:9: FutureWarning: You are using `torch.load` with `weights_only=False` (the current default value), which uses the default pickle module implicitly. It is possible to construct malicious pickle data which will execute arbitrary code during unpickling (See https://github.com/pytorch/pytorch/blob/main/SECURITY.md#untrusted-models for more details). In a future release, the default value for `weights_only` will be flipped to `True`. This limits the functions that could be executed during unpickling. Arbitrary objects will no longer be allowed to be loaded via this mode unless they are explicitly allowlisted by the user via `torch.serialization.add_safe_globals`. We recommend you start setting `weights_only=True` for any use case where you don't have full control of the loaded file. Please open an issue on GitHub for any issues related to this experimental feature.\n",
      "  model.load_state_dict(torch.load('/kaggle/input/model-iou/latest_model.pth'))\n",
      "Epoch 1/100:   0%|          | 0/112 [00:00<?, ?batch/s]\n",
      "NOTE: Using experimental fast data loading logic. To disable, pass\n",
      "    \"--load_fast=false\" and report issues on GitHub. More details:\n",
      "    https://github.com/tensorflow/tensorboard/issues/4784\n",
      "\n",
      "TensorBoard 2.16.2 at http://0.0.0.0:6006/ (Press CTRL+C to quit)\n",
      "Epoch 1/100: 100%|██████████| 112/112 [05:28<00:00,  2.93s/batch, loss=1.03, iou=0.542]\n"
     ]
    },
    {
     "name": "stdout",
     "output_type": "stream",
     "text": [
      "Epoch [1/100], Loss: 0.9984392687412245, Accuracy: 0.9753382972308567, Sensitivity: 0.9825743701889397, Specificity: 0.9747483194015503, MCC: 0.8058564663991002, IOU: 0.680172964330018, PPV: 0.6882190801863131, DICE: 0.7995088195407207\n",
      "Model saved at epoch 1\n"
     ]
    },
    {
     "name": "stderr",
     "output_type": "stream",
     "text": [
      "Epoch 2/100: 100%|██████████| 112/112 [05:25<00:00,  2.91s/batch, loss=1.04, iou=0.391]\n"
     ]
    },
    {
     "name": "stdout",
     "output_type": "stream",
     "text": [
      "Epoch [2/100], Loss: 0.9981017169941749, Accuracy: 0.9750787700925555, Sensitivity: 0.985916625959302, Specificity: 0.9743862741724282, MCC: 0.7963808381399808, IOU: 0.6662166384317336, PPV: 0.6726176180504589, DICE: 0.7869671176622639\n",
      "Model saved at epoch 2\n"
     ]
    },
    {
     "name": "stderr",
     "output_type": "stream",
     "text": [
      "Epoch 3/100: 100%|██████████| 112/112 [05:25<00:00,  2.90s/batch, loss=1.03, iou=0.659]\n"
     ]
    },
    {
     "name": "stdout",
     "output_type": "stream",
     "text": [
      "Epoch [3/100], Loss: 0.997833921307964, Accuracy: 0.9783282365117755, Sensitivity: 0.9878617369997312, Specificity: 0.977717155495698, MCC: 0.8157084599800758, IOU: 0.6927749483870845, PPV: 0.6987960915789972, DICE: 0.8087222259981406\n",
      "Model saved at epoch 3\n"
     ]
    },
    {
     "name": "stderr",
     "output_type": "stream",
     "text": [
      "Epoch 4/100: 100%|██████████| 112/112 [05:25<00:00,  2.90s/batch, loss=1.02, iou=0.786]\n"
     ]
    },
    {
     "name": "stdout",
     "output_type": "stream",
     "text": [
      "Epoch [4/100], Loss: 0.997629590199462, Accuracy: 0.9810031482151577, Sensitivity: 0.9892676093205593, Specificity: 0.9804491711498169, MCC: 0.8344831256316807, IOU: 0.7199762551404442, PPV: 0.7257397731785212, DICE: 0.8296763398797944\n",
      "Model saved at epoch 4\n"
     ]
    },
    {
     "name": "stderr",
     "output_type": "stream",
     "text": [
      "Epoch 5/100: 100%|██████████| 112/112 [05:25<00:00,  2.90s/batch, loss=1.03, iou=0.743]\n"
     ]
    },
    {
     "name": "stdout",
     "output_type": "stream",
     "text": [
      "Epoch [5/100], Loss: 0.9975230053865484, Accuracy: 0.9816926036562238, Sensitivity: 0.9901682761738397, Specificity: 0.9811406449036398, MCC: 0.8392522950193181, IOU: 0.7269442172470688, PPV: 0.7323521151164333, DICE: 0.8347626911438786\n",
      "Model saved at epoch 5\n"
     ]
    },
    {
     "name": "stderr",
     "output_type": "stream",
     "text": [
      "Epoch 6/100: 100%|██████████| 112/112 [05:25<00:00,  2.91s/batch, loss=1.03, iou=0.699]\n"
     ]
    },
    {
     "name": "stdout",
     "output_type": "stream",
     "text": [
      "Epoch [6/100], Loss: 0.997430524921843, Accuracy: 0.9822690912655422, Sensitivity: 0.9909356546876955, Specificity: 0.9817147086468916, MCC: 0.8427682649507007, IOU: 0.7323699206365932, PPV: 0.7374842963797837, DICE: 0.8383848248859712\n",
      "Model saved at epoch 6\n"
     ]
    },
    {
     "name": "stderr",
     "output_type": "stream",
     "text": [
      "Epoch 7/100: 100%|██████████| 112/112 [05:25<00:00,  2.91s/batch, loss=1, iou=0.713]   \n"
     ]
    },
    {
     "name": "stdout",
     "output_type": "stream",
     "text": [
      "Epoch [7/100], Loss: 0.9973963130531567, Accuracy: 0.9819198335920062, Sensitivity: 0.991470187616233, Specificity: 0.9813062600897526, MCC: 0.8406536313856504, IOU: 0.7288690600607161, PPV: 0.7336868779337938, DICE: 0.8360375139717665\n",
      "Model saved at epoch 7\n"
     ]
    },
    {
     "name": "stderr",
     "output_type": "stream",
     "text": [
      "Epoch 8/100: 100%|██████████| 112/112 [05:25<00:00,  2.91s/batch, loss=1.05, iou=0.612]\n"
     ]
    },
    {
     "name": "stdout",
     "output_type": "stream",
     "text": [
      "Epoch [8/100], Loss: 0.9973885724321008, Accuracy: 0.9809230991772243, Sensitivity: 0.9918421983460031, Specificity: 0.9802436412034112, MCC: 0.8332362025602015, IOU: 0.7179094587430869, PPV: 0.7224890682834378, DICE: 0.8274747409549504\n",
      "Model saved at epoch 8\n"
     ]
    },
    {
     "name": "stderr",
     "output_type": "stream",
     "text": [
      "Epoch 9/100: 100%|██████████| 112/112 [05:25<00:00,  2.91s/batch, loss=1.02, iou=0.806]\n"
     ]
    },
    {
     "name": "stdout",
     "output_type": "stream",
     "text": [
      "Epoch [9/100], Loss: 0.9972827180421778, Accuracy: 0.9826815213475909, Sensitivity: 0.9924811855277252, Specificity: 0.9820501264543423, MCC: 0.846755605133142, IOU: 0.7378465699476964, PPV: 0.7422607176222485, DICE: 0.8427458090776062\n",
      "Model saved at epoch 9\n"
     ]
    },
    {
     "name": "stderr",
     "output_type": "stream",
     "text": [
      "Epoch 10/100: 100%|██████████| 112/112 [05:25<00:00,  2.91s/batch, loss=1.03, iou=0.691]\n"
     ]
    },
    {
     "name": "stdout",
     "output_type": "stream",
     "text": [
      "Epoch [10/100], Loss: 0.9972319108034883, Accuracy: 0.9834371549742562, Sensitivity: 0.9928115001926177, Specificity: 0.9828238284985347, MCC: 0.8529967562231399, IOU: 0.7472941027019816, PPV: 0.7516024875758271, DICE: 0.8497319829675568\n",
      "Model saved at epoch 10\n"
     ]
    },
    {
     "name": "stderr",
     "output_type": "stream",
     "text": [
      "Epoch 11/100: 100%|██████████| 112/112 [05:25<00:00,  2.91s/batch, loss=1.05, iou=0.559]\n"
     ]
    },
    {
     "name": "stdout",
     "output_type": "stream",
     "text": [
      "Epoch [11/100], Loss: 0.997210136747786, Accuracy: 0.9834773114749363, Sensitivity: 0.9930730546236328, Specificity: 0.9828390025517121, MCC: 0.8537000054924061, IOU: 0.7482504857404023, PPV: 0.7524077959292441, DICE: 0.8505811250226977\n",
      "Model saved at epoch 11\n"
     ]
    },
    {
     "name": "stderr",
     "output_type": "stream",
     "text": [
      "Epoch 12/100: 100%|██████████| 112/112 [05:25<00:00,  2.91s/batch, loss=1.05, iou=0.522]\n"
     ]
    },
    {
     "name": "stdout",
     "output_type": "stream",
     "text": [
      "Epoch [12/100], Loss: 0.997217016959829, Accuracy: 0.9830473065376282, Sensitivity: 0.9931743073043915, Specificity: 0.9823788710432397, MCC: 0.8508286064959174, IOU: 0.7436708080492636, PPV: 0.747761217034956, DICE: 0.8474797695402358\n",
      "Model saved at epoch 12\n"
     ]
    },
    {
     "name": "stderr",
     "output_type": "stream",
     "text": [
      "Epoch 13/100: 100%|██████████| 112/112 [05:25<00:00,  2.91s/batch, loss=1.04, iou=0.657]\n"
     ]
    },
    {
     "name": "stdout",
     "output_type": "stream",
     "text": [
      "Epoch [13/100], Loss: 0.9972304756354008, Accuracy: 0.9820684450013297, Sensitivity: 0.9933429291107801, Specificity: 0.9813273208482773, MCC: 0.8436787106236114, IOU: 0.732790542448637, PPV: 0.7366882297677032, DICE: 0.8395094951108373\n",
      "Model saved at epoch 13\n"
     ]
    },
    {
     "name": "stderr",
     "output_type": "stream",
     "text": [
      "Epoch 14/100: 100%|██████████| 112/112 [05:25<00:00,  2.91s/batch, loss=1.05, iou=0.603]\n"
     ]
    },
    {
     "name": "stdout",
     "output_type": "stream",
     "text": [
      "Epoch [14/100], Loss: 0.9971789071070296, Accuracy: 0.982884841305869, Sensitivity: 0.9936312153139306, Specificity: 0.9821696991474198, MCC: 0.8497075719334454, IOU: 0.7419787299278743, PPV: 0.745781001131107, DICE: 0.8461641604728883\n",
      "Model saved at epoch 14\n"
     ]
    },
    {
     "name": "stderr",
     "output_type": "stream",
     "text": [
      "Epoch 15/100: 100%|██████████| 112/112 [05:25<00:00,  2.91s/batch, loss=1.04, iou=0.689]\n"
     ]
    },
    {
     "name": "stdout",
     "output_type": "stream",
     "text": [
      "Epoch [15/100], Loss: 0.9971278891233462, Accuracy: 0.9834649903433663, Sensitivity: 0.9939911573569491, Specificity: 0.9827544955848808, MCC: 0.8541943093949145, IOU: 0.7488647503100035, PPV: 0.7525065423427154, DICE: 0.8510989613855257\n",
      "Model saved at epoch 15\n"
     ]
    },
    {
     "name": "stderr",
     "output_type": "stream",
     "text": [
      "Epoch 16/100: 100%|██████████| 112/112 [05:25<00:00,  2.91s/batch, loss=1.05, iou=0.428]\n"
     ]
    },
    {
     "name": "stdout",
     "output_type": "stream",
     "text": [
      "Epoch [16/100], Loss: 0.9971227129655225, Accuracy: 0.9833947164671761, Sensitivity: 0.994086930923899, Specificity: 0.982670326500834, MCC: 0.8541684757527328, IOU: 0.7487703147594835, PPV: 0.7523542308476818, DICE: 0.8511204085546635\n",
      "Model saved at epoch 16\n"
     ]
    },
    {
     "name": "stderr",
     "output_type": "stream",
     "text": [
      "Epoch 17/100: 100%|██████████| 112/112 [05:25<00:00,  2.91s/batch, loss=1.05, iou=0.62] \n"
     ]
    },
    {
     "name": "stdout",
     "output_type": "stream",
     "text": [
      "Epoch [17/100], Loss: 0.9971295745511141, Accuracy: 0.9827266080038888, Sensitivity: 0.9942348045495928, Specificity: 0.9819528198754054, MCC: 0.8487958236439178, IOU: 0.7404078242817081, PPV: 0.7438476211093473, DICE: 0.8451501895020846\n",
      "Model saved at epoch 17\n"
     ]
    },
    {
     "name": "stderr",
     "output_type": "stream",
     "text": [
      "Epoch 18/100: 100%|██████████| 112/112 [05:25<00:00,  2.91s/batch, loss=1.05, iou=0.549]\n"
     ]
    },
    {
     "name": "stdout",
     "output_type": "stream",
     "text": [
      "Epoch [18/100], Loss: 0.99711875111929, Accuracy: 0.982742190361023, Sensitivity: 0.9943393158932501, Specificity: 0.981962227498914, MCC: 0.8488758505246766, IOU: 0.7404022589089433, PPV: 0.7437792699199558, DICE: 0.8452441876012332\n",
      "Model saved at epoch 18\n"
     ]
    },
    {
     "name": "stderr",
     "output_type": "stream",
     "text": [
      "Epoch 19/100: 100%|██████████| 112/112 [05:25<00:00,  2.91s/batch, loss=1.02, iou=0.726]\n"
     ]
    },
    {
     "name": "stdout",
     "output_type": "stream",
     "text": [
      "Epoch [19/100], Loss: 0.9971284231703196, Accuracy: 0.9821837544441223, Sensitivity: 0.9943935311009776, Specificity: 0.9813704474054833, MCC: 0.8444882923767042, IOU: 0.7337340460508743, PPV: 0.7370293852358207, DICE: 0.8403051481550222\n",
      "Model saved at epoch 19\n"
     ]
    },
    {
     "name": "stderr",
     "output_type": "stream",
     "text": [
      "Epoch 20/100: 100%|██████████| 112/112 [05:25<00:00,  2.91s/batch, loss=1.03, iou=0.667]\n"
     ]
    },
    {
     "name": "stdout",
     "output_type": "stream",
     "text": [
      "Epoch [20/100], Loss: 0.9970857932099274, Accuracy: 0.9830314261572701, Sensitivity: 0.994599182067146, Specificity: 0.9822429804231572, MCC: 0.8514233427680604, IOU: 0.7441746357834855, PPV: 0.7474283697272897, DICE: 0.8481411046534711\n",
      "Model saved at epoch 20\n"
     ]
    },
    {
     "name": "stderr",
     "output_type": "stream",
     "text": [
      "Epoch 21/100: 100%|██████████| 112/112 [05:25<00:00,  2.91s/batch, loss=1.05, iou=0.539]\n"
     ]
    },
    {
     "name": "stdout",
     "output_type": "stream",
     "text": [
      "Epoch [21/100], Loss: 0.9970889096813542, Accuracy: 0.982632943562099, Sensitivity: 0.9946708063006858, Specificity: 0.9818205274936619, MCC: 0.8480498178951726, IOU: 0.739096061441728, PPV: 0.7422613938600943, DICE: 0.8442737130013054\n",
      "Model saved at epoch 21\n"
     ]
    },
    {
     "name": "stderr",
     "output_type": "stream",
     "text": [
      "Epoch 22/100: 100%|██████████| 112/112 [05:25<00:00,  2.91s/batch, loss=1.02, iou=0.75] \n"
     ]
    },
    {
     "name": "stdout",
     "output_type": "stream",
     "text": [
      "Epoch [22/100], Loss: 0.9970632078392165, Accuracy: 0.9830765979630607, Sensitivity: 0.9948459536656433, Specificity: 0.9822724530194267, MCC: 0.8519976450323512, IOU: 0.7450826817678388, PPV: 0.748192822404861, DICE: 0.8487446462559147\n",
      "Model saved at epoch 22\n"
     ]
    },
    {
     "name": "stderr",
     "output_type": "stream",
     "text": [
      "Epoch 23/100: 100%|██████████| 112/112 [05:25<00:00,  2.91s/batch, loss=1.04, iou=0.672]\n"
     ]
    },
    {
     "name": "stdout",
     "output_type": "stream",
     "text": [
      "Epoch [23/100], Loss: 0.9970579767333609, Accuracy: 0.9830308045659747, Sensitivity: 0.9948954765231605, Specificity: 0.9822203041221049, MCC: 0.8513953909271071, IOU: 0.7441526742773659, PPV: 0.7472145052163085, DICE: 0.8480377388884571\n",
      "Model saved at epoch 23\n"
     ]
    },
    {
     "name": "stderr",
     "output_type": "stream",
     "text": [
      "Epoch 24/100: 100%|██████████| 112/112 [05:25<00:00,  2.91s/batch, loss=1.04, iou=0.719]\n"
     ]
    },
    {
     "name": "stdout",
     "output_type": "stream",
     "text": [
      "Epoch [24/100], Loss: 0.9970376663176077, Accuracy: 0.9833672727857318, Sensitivity: 0.99500536654771, Specificity: 0.9825680324088528, MCC: 0.8541263261607976, IOU: 0.7483377155497178, PPV: 0.7513663539320287, DICE: 0.8510765102465588\n",
      "Model saved at epoch 24\n"
     ]
    },
    {
     "name": "stderr",
     "output_type": "stream",
     "text": [
      "Epoch 25/100: 100%|██████████| 112/112 [05:25<00:00,  2.91s/batch, loss=1.02, iou=0.719]\n"
     ]
    },
    {
     "name": "stdout",
     "output_type": "stream",
     "text": [
      "Epoch [25/100], Loss: 0.9970384535512754, Accuracy: 0.9831282326153347, Sensitivity: 0.9950698691421066, Specificity: 0.9823077150778072, MCC: 0.8523600385924406, IOU: 0.745540495913609, PPV: 0.7485078102911628, DICE: 0.8491505174094474\n",
      "Model saved at epoch 25\n"
     ]
    },
    {
     "name": "stderr",
     "output_type": "stream",
     "text": [
      "Epoch 26/100: 100%|██████████| 112/112 [05:25<00:00,  2.91s/batch, loss=1.06, iou=0.516]\n"
     ]
    },
    {
     "name": "stdout",
     "output_type": "stream",
     "text": [
      "Epoch [26/100], Loss: 0.9970292019258652, Accuracy: 0.9831616112164089, Sensitivity: 0.9951397621273407, Specificity: 0.9823435172455622, MCC: 0.8523711717165245, IOU: 0.7456947930444185, PPV: 0.748635801889476, DICE: 0.8490393065546729\n",
      "Model saved at epoch 26\n"
     ]
    },
    {
     "name": "stderr",
     "output_type": "stream",
     "text": [
      "Epoch 27/100: 100%|██████████| 112/112 [05:25<00:00,  2.91s/batch, loss=1.02, iou=0.772]\n"
     ]
    },
    {
     "name": "stdout",
     "output_type": "stream",
     "text": [
      "Epoch [27/100], Loss: 0.9970333818346262, Accuracy: 0.9827579004423959, Sensitivity: 0.9952040277992623, Specificity: 0.9819148844126138, MCC: 0.8490451678966615, IOU: 0.7405284876045946, PPV: 0.743396992245324, DICE: 0.8453160133802974\n",
      "Model saved at epoch 27\n"
     ]
    },
    {
     "name": "stderr",
     "output_type": "stream",
     "text": [
      "Epoch 28/100: 100%|██████████| 112/112 [05:25<00:00,  2.91s/batch, loss=1.03, iou=0.765]\n"
     ]
    },
    {
     "name": "stdout",
     "output_type": "stream",
     "text": [
      "Epoch [28/100], Loss: 0.99701256757336, Accuracy: 0.9830619863101414, Sensitivity: 0.9953442622638089, Specificity: 0.9822198241173979, MCC: 0.8517131032862529, IOU: 0.7445909737823174, PPV: 0.7474046052670272, DICE: 0.848309643231846\n",
      "Model saved at epoch 28\n"
     ]
    },
    {
     "name": "stderr",
     "output_type": "stream",
     "text": [
      "Epoch 29/100: 100%|██████████| 112/112 [05:25<00:00,  2.91s/batch, loss=1.04, iou=0.595]\n"
     ]
    },
    {
     "name": "stdout",
     "output_type": "stream",
     "text": [
      "Epoch [29/100], Loss: 0.9969975450741393, Accuracy: 0.983298693384443, Sensitivity: 0.9954488605499685, Specificity: 0.9824554623897964, MCC: 0.853680568518891, IOU: 0.74753705617554, PPV: 0.7502838806788221, DICE: 0.8505601754050937\n",
      "Model saved at epoch 29\n"
     ]
    },
    {
     "name": "stderr",
     "output_type": "stream",
     "text": [
      "Epoch 30/100: 100%|██████████| 112/112 [05:25<00:00,  2.91s/batch, loss=1.03, iou=0.778]\n"
     ]
    },
    {
     "name": "stdout",
     "output_type": "stream",
     "text": [
      "Epoch [30/100], Loss: 0.9970092317089438, Accuracy: 0.9828821590968541, Sensitivity: 0.9954233887485711, Specificity: 0.9820229726818505, MCC: 0.8500244995763174, IOU: 0.741945492982698, PPV: 0.7446755098675325, DICE: 0.846420739158428\n",
      "Model saved at epoch 30\n"
     ]
    },
    {
     "name": "stderr",
     "output_type": "stream",
     "text": [
      "Epoch 31/100: 100%|██████████| 112/112 [05:25<00:00,  2.91s/batch, loss=1.04, iou=0.655]\n"
     ]
    },
    {
     "name": "stdout",
     "output_type": "stream",
     "text": [
      "Epoch [31/100], Loss: 0.9969841736767974, Accuracy: 0.9834388239043099, Sensitivity: 0.9955520396738716, Specificity: 0.9825922740289272, MCC: 0.8550484262413427, IOU: 0.7495960279002206, PPV: 0.7522964944792824, DICE: 0.8521161707343088\n",
      "Model saved at epoch 31\n"
     ]
    },
    {
     "name": "stderr",
     "output_type": "stream",
     "text": [
      "Epoch 32/100: 100%|██████████| 112/112 [05:25<00:00,  2.91s/batch, loss=1.01, iou=0.811]\n"
     ]
    },
    {
     "name": "stdout",
     "output_type": "stream",
     "text": [
      "Epoch [32/100], Loss: 0.9969712563657335, Accuracy: 0.98360504422869, Sensitivity: 0.9956338083935053, Specificity: 0.9827618063613992, MCC: 0.8563807370718485, IOU: 0.7516436231001097, PPV: 0.7542955542747111, DICE: 0.85359131537751\n",
      "Model saved at epoch 32\n"
     ]
    },
    {
     "name": "stderr",
     "output_type": "stream",
     "text": [
      "Epoch 33/100: 100%|██████████| 112/112 [05:25<00:00,  2.91s/batch, loss=1, iou=0.827]   \n"
     ]
    },
    {
     "name": "stdout",
     "output_type": "stream",
     "text": [
      "Epoch [33/100], Loss: 0.9969740138788309, Accuracy: 0.9833477650369916, Sensitivity: 0.9957016684701745, Specificity: 0.9824828806142024, MCC: 0.8545759778145099, IOU: 0.7487113081870863, PPV: 0.7513086293320459, DICE: 0.8516550812528837\n",
      "Model saved at epoch 33\n"
     ]
    },
    {
     "name": "stderr",
     "output_type": "stream",
     "text": [
      "Epoch 34/100: 100%|██████████| 112/112 [05:25<00:00,  2.91s/batch, loss=1.05, iou=0.6]  \n"
     ]
    },
    {
     "name": "stdout",
     "output_type": "stream",
     "text": [
      "Epoch [34/100], Loss: 0.9969730916033898, Accuracy: 0.9832209093230111, Sensitivity: 0.9957115647775926, Specificity: 0.9823548852347476, MCC: 0.8531356851694669, IOU: 0.7465899343863913, PPV: 0.7491755832601374, DICE: 0.8499385299772565\n",
      "Model saved at epoch 34\n"
     ]
    },
    {
     "name": "stderr",
     "output_type": "stream",
     "text": [
      "Epoch 35/100: 100%|██████████| 112/112 [05:25<00:00,  2.91s/batch, loss=1.05, iou=0.713]\n"
     ]
    },
    {
     "name": "stdout",
     "output_type": "stream",
     "text": [
      "Epoch [35/100], Loss: 0.9969831319259745, Accuracy: 0.9829591682979039, Sensitivity: 0.9956984740699315, Specificity: 0.9820734578344225, MCC: 0.8511934031519878, IOU: 0.743489353104725, PPV: 0.7460603792952706, DICE: 0.8478507250204521\n",
      "Model saved at epoch 35\n"
     ]
    },
    {
     "name": "stderr",
     "output_type": "stream",
     "text": [
      "Epoch 36/100: 100%|██████████| 112/112 [05:25<00:00,  2.91s/batch, loss=1.05, iou=0.643]\n"
     ]
    },
    {
     "name": "stdout",
     "output_type": "stream",
     "text": [
      "Epoch [36/100], Loss: 0.9969903732250843, Accuracy: 0.9826005952698844, Sensitivity: 0.9957075187623342, Specificity: 0.9817014899031972, MCC: 0.8483309507125301, IOU: 0.7392970421826396, PPV: 0.7418438274752637, DICE: 0.8445238360933276\n",
      "Model saved at epoch 36\n"
     ]
    },
    {
     "name": "stderr",
     "output_type": "stream",
     "text": [
      "Epoch 37/100: 100%|██████████| 112/112 [05:25<00:00,  2.91s/batch, loss=1.04, iou=0.629]\n"
     ]
    },
    {
     "name": "stdout",
     "output_type": "stream",
     "text": [
      "Epoch [37/100], Loss: 0.9969694699559893, Accuracy: 0.9829881617001125, Sensitivity: 0.9958474571322584, Specificity: 0.9820935325995543, MCC: 0.8515412498768311, IOU: 0.7440539019088984, PPV: 0.7465442978001073, DICE: 0.848214999203074\n",
      "Model saved at epoch 37\n"
     ]
    },
    {
     "name": "stderr",
     "output_type": "stream",
     "text": [
      "Epoch 38/100: 100%|██████████| 112/112 [05:25<00:00,  2.91s/batch, loss=1.04, iou=0.697]\n"
     ]
    },
    {
     "name": "stdout",
     "output_type": "stream",
     "text": [
      "Epoch [38/100], Loss: 0.996947825620217, Accuracy: 0.9832930735179356, Sensitivity: 0.9959617025851667, Specificity: 0.9824143764473693, MCC: 0.853559464934347, IOU: 0.7471718053301382, PPV: 0.7496159505962525, DICE: 0.8503864455216813\n",
      "Model saved at epoch 38\n"
     ]
    },
    {
     "name": "stderr",
     "output_type": "stream",
     "text": [
      "Epoch 39/100: 100%|██████████| 112/112 [05:25<00:00,  2.91s/batch, loss=1.02, iou=0.696]\n"
     ]
    },
    {
     "name": "stdout",
     "output_type": "stream",
     "text": [
      "Epoch [39/100], Loss: 0.9969448850357107, Accuracy: 0.9833571655409676, Sensitivity: 0.995958683366338, Specificity: 0.9824797224586027, MCC: 0.8539898015610394, IOU: 0.7477817557264491, PPV: 0.7502324017518693, DICE: 0.8508736982517222\n",
      "Model saved at epoch 39\n"
     ]
    },
    {
     "name": "stderr",
     "output_type": "stream",
     "text": [
      "Epoch 40/100: 100%|██████████| 112/112 [05:25<00:00,  2.91s/batch, loss=1, iou=0.825]   \n"
     ]
    },
    {
     "name": "stdout",
     "output_type": "stream",
     "text": [
      "Epoch [40/100], Loss: 0.9969382693192789, Accuracy: 0.983354994228908, Sensitivity: 0.9960286751500221, Specificity: 0.9824775902178059, MCC: 0.8538792731969675, IOU: 0.7475960789618485, PPV: 0.7500209342722955, DICE: 0.8507200073984669\n",
      "Model saved at epoch 40\n"
     ]
    },
    {
     "name": "stderr",
     "output_type": "stream",
     "text": [
      "Epoch 41/100: 100%|██████████| 112/112 [05:25<00:00,  2.91s/batch, loss=1.04, iou=0.575]\n"
     ]
    },
    {
     "name": "stdout",
     "output_type": "stream",
     "text": [
      "Epoch [41/100], Loss: 0.9969264536297747, Accuracy: 0.9834231393677848, Sensitivity: 0.9961074136599196, Specificity: 0.9825435916352776, MCC: 0.8543052562497188, IOU: 0.7483344904958805, PPV: 0.7507088175834237, DICE: 0.8511207051945066\n",
      "Model saved at epoch 41\n"
     ]
    },
    {
     "name": "stderr",
     "output_type": "stream",
     "text": [
      "Epoch 42/100: 100%|██████████| 112/112 [05:25<00:00,  2.91s/batch, loss=1.05, iou=0.61] \n"
     ]
    },
    {
     "name": "stdout",
     "output_type": "stream",
     "text": [
      "Epoch [42/100], Loss: 0.9969205310834306, Accuracy: 0.9837207538740975, Sensitivity: 0.9961044938945702, Specificity: 0.9828518175277093, MCC: 0.8569997988290902, IOU: 0.7524366028655666, PPV: 0.754816888105721, DICE: 0.8542074313939519\n",
      "Model saved at epoch 42\n"
     ]
    },
    {
     "name": "stderr",
     "output_type": "stream",
     "text": [
      "Epoch 43/100: 100%|██████████| 112/112 [05:25<00:00,  2.91s/batch, loss=1.05, iou=0.604]\n"
     ]
    },
    {
     "name": "stdout",
     "output_type": "stream",
     "text": [
      "Epoch [43/100], Loss: 0.9969280169212392, Accuracy: 0.9834398627281189, Sensitivity: 0.9960945527837717, Specificity: 0.9825587381573214, MCC: 0.854502324914505, IOU: 0.7485551433312446, PPV: 0.7509272739036914, DICE: 0.851401676672717\n",
      "Model saved at epoch 43\n"
     ]
    },
    {
     "name": "stderr",
     "output_type": "stream",
     "text": [
      "Epoch 44/100: 100%|██████████| 112/112 [05:25<00:00,  2.91s/batch, loss=1.03, iou=0.692]\n"
     ]
    },
    {
     "name": "stdout",
     "output_type": "stream",
     "text": [
      "Epoch [44/100], Loss: 0.9969428978594286, Accuracy: 0.9829998186656407, Sensitivity: 0.9960951427027018, Specificity: 0.9820923496393803, MCC: 0.8511430052591001, IOU: 0.7434054648164089, PPV: 0.7457599697737259, DICE: 0.8476683873688675\n",
      "Model saved at epoch 44\n"
     ]
    },
    {
     "name": "stderr",
     "output_type": "stream",
     "text": [
      "Epoch 45/100: 100%|██████████| 112/112 [05:25<00:00,  2.91s/batch, loss=1.02, iou=0.736]\n"
     ]
    },
    {
     "name": "stdout",
     "output_type": "stream",
     "text": [
      "Epoch [45/100], Loss: 0.9969202281375017, Accuracy: 0.9834465980529785, Sensitivity: 0.996188410841099, Specificity: 0.9825612725221999, MCC: 0.8545567557639666, IOU: 0.7486927960713808, PPV: 0.7510191156173098, DICE: 0.8514208379656537\n",
      "Model saved at epoch 45\n"
     ]
    },
    {
     "name": "stderr",
     "output_type": "stream",
     "text": [
      "Epoch 46/100: 100%|██████████| 112/112 [05:25<00:00,  2.91s/batch, loss=1.03, iou=0.683]\n"
     ]
    },
    {
     "name": "stdout",
     "output_type": "stream",
     "text": [
      "Epoch [46/100], Loss: 0.9969477383419871, Accuracy: 0.9826518382344928, Sensitivity: 0.9961184400705502, Specificity: 0.981727765156818, MCC: 0.8489732524683564, IOU: 0.7403284259529647, PPV: 0.7426541176449353, DICE: 0.8451459846180407\n",
      "Model saved at epoch 46\n"
     ]
    },
    {
     "name": "stderr",
     "output_type": "stream",
     "text": [
      "Epoch 47/100: 100%|██████████| 112/112 [05:25<00:00,  2.91s/batch, loss=1.06, iou=0.665]\n"
     ]
    },
    {
     "name": "stdout",
     "output_type": "stream",
     "text": [
      "Epoch [47/100], Loss: 0.9969415704586676, Accuracy: 0.9826786688395909, Sensitivity: 0.9961941729134606, Specificity: 0.9817554986372707, MCC: 0.8482772905280689, IOU: 0.7390559719723365, PPV: 0.7413498303623428, DICE: 0.844372088316489\n",
      "Model saved at epoch 47\n"
     ]
    },
    {
     "name": "stderr",
     "output_type": "stream",
     "text": [
      "Epoch 48/100: 100%|██████████| 112/112 [05:25<00:00,  2.91s/batch, loss=1.05, iou=0.547]\n"
     ]
    },
    {
     "name": "stdout",
     "output_type": "stream",
     "text": [
      "Epoch [48/100], Loss: 0.9968986299687198, Accuracy: 0.9836513910974775, Sensitivity: 0.9963468667823802, Specificity: 0.9827705268473214, MCC: 0.8560559612239593, IOU: 0.7509871285517274, PPV: 0.753249667405877, DICE: 0.8530380625858285\n",
      "Model saved at epoch 48\n"
     ]
    },
    {
     "name": "stderr",
     "output_type": "stream",
     "text": [
      "Epoch 49/100: 100%|██████████| 112/112 [05:25<00:00,  2.91s/batch, loss=1.04, iou=0.631]\n"
     ]
    },
    {
     "name": "stdout",
     "output_type": "stream",
     "text": [
      "Epoch [49/100], Loss: 0.9968898008976664, Accuracy: 0.9836248159408569, Sensitivity: 0.9964502917512833, Specificity: 0.9827374342490908, MCC: 0.8557653187668125, IOU: 0.7504751158066305, PPV: 0.7526777524289123, DICE: 0.8527015092045065\n",
      "Model saved at epoch 49\n"
     ]
    },
    {
     "name": "stderr",
     "output_type": "stream",
     "text": [
      "Epoch 50/100: 100%|██████████| 112/112 [05:25<00:00,  2.91s/batch, loss=1.03, iou=0.753]\n"
     ]
    },
    {
     "name": "stdout",
     "output_type": "stream",
     "text": [
      "Epoch [50/100], Loss: 0.9968757405877113, Accuracy: 0.9839998057910374, Sensitivity: 0.9964852482159354, Specificity: 0.9831292236681114, MCC: 0.8589524905304887, IOU: 0.7554480976375485, PPV: 0.7576431043289251, DICE: 0.8562587233807284\n",
      "Model saved at epoch 50\n"
     ]
    },
    {
     "name": "stderr",
     "output_type": "stream",
     "text": [
      "Epoch 51/100: 100%|██████████| 112/112 [05:25<00:00,  2.91s/batch, loss=1.05, iou=0.61] \n"
     ]
    },
    {
     "name": "stdout",
     "output_type": "stream",
     "text": [
      "Epoch [51/100], Loss: 0.9968785831172552, Accuracy: 0.9837666239057269, Sensitivity: 0.9965148250376356, Specificity: 0.9828839382529829, MCC: 0.8568601403300302, IOU: 0.7521616807246605, PPV: 0.7543295547565129, DICE: 0.8539096609278244\n",
      "Model saved at epoch 51\n"
     ]
    },
    {
     "name": "stderr",
     "output_type": "stream",
     "text": [
      "Epoch 52/100: 100%|██████████| 112/112 [05:25<00:00,  2.91s/batch, loss=1.05, iou=0.639]\n"
     ]
    },
    {
     "name": "stdout",
     "output_type": "stream",
     "text": [
      "Epoch [52/100], Loss: 0.9968794689380697, Accuracy: 0.9837456941604614, Sensitivity: 0.9965192063048093, Specificity: 0.9828574943406236, MCC: 0.856916384929755, IOU: 0.7522215809400743, PPV: 0.7543844003109992, DICE: 0.8540156173512513\n",
      "Model saved at epoch 52\n"
     ]
    },
    {
     "name": "stderr",
     "output_type": "stream",
     "text": [
      "Epoch 53/100: 100%|██████████| 112/112 [05:25<00:00,  2.91s/batch, loss=1.04, iou=0.613]\n"
     ]
    },
    {
     "name": "stdout",
     "output_type": "stream",
     "text": [
      "Epoch [53/100], Loss: 0.9968909230083227, Accuracy: 0.9834438817841666, Sensitivity: 0.9964911591867761, Specificity: 0.9825437095777879, MCC: 0.8543141653460297, IOU: 0.7481900523298092, PPV: 0.7503602141684308, DICE: 0.851099668339831\n",
      "Model saved at epoch 53\n"
     ]
    },
    {
     "name": "stderr",
     "output_type": "stream",
     "text": [
      "Epoch 54/100: 100%|██████████| 112/112 [05:25<00:00,  2.91s/batch, loss=1.01, iou=0.778]\n"
     ]
    },
    {
     "name": "stdout",
     "output_type": "stream",
     "text": [
      "Epoch [54/100], Loss: 0.9969054678721088, Accuracy: 0.9829090067318508, Sensitivity: 0.9964763191248803, Specificity: 0.9819819782478639, MCC: 0.8499723433118136, IOU: 0.7416771268840009, PPV: 0.7438331884477191, DICE: 0.8461603459711371\n",
      "Model saved at epoch 54\n"
     ]
    },
    {
     "name": "stderr",
     "output_type": "stream",
     "text": [
      "Epoch 55/100: 100%|██████████| 112/112 [05:25<00:00,  2.91s/batch, loss=1.03, iou=0.725]\n"
     ]
    },
    {
     "name": "stdout",
     "output_type": "stream",
     "text": [
      "Epoch [55/100], Loss: 0.9968902770695942, Accuracy: 0.9832846948078701, Sensitivity: 0.9965512659737271, Specificity: 0.9823685995032883, MCC: 0.8531277458048578, IOU: 0.7463445298871102, PPV: 0.7484692383414409, DICE: 0.8497802175842766\n",
      "Model saved at epoch 55\n"
     ]
    },
    {
     "name": "stderr",
     "output_type": "stream",
     "text": [
      "Epoch 56/100: 100%|██████████| 112/112 [05:25<00:00,  2.91s/batch, loss=1.05, iou=0.523]\n"
     ]
    },
    {
     "name": "stdout",
     "output_type": "stream",
     "text": [
      "Epoch [56/100], Loss: 0.9968700681680015, Accuracy: 0.983702940600259, Sensitivity: 0.9966315269784402, Specificity: 0.982804629977845, MCC: 0.856480817959013, IOU: 0.7515409255734016, PPV: 0.7536341708021806, DICE: 0.8534976069668014\n",
      "Model saved at epoch 56\n"
     ]
    },
    {
     "name": "stderr",
     "output_type": "stream",
     "text": [
      "Epoch 57/100: 100%|██████████| 112/112 [05:25<00:00,  2.91s/batch, loss=1.04, iou=0.612]\n"
     ]
    },
    {
     "name": "stdout",
     "output_type": "stream",
     "text": [
      "Epoch [57/100], Loss: 0.9968732342656169, Accuracy: 0.9834964105061123, Sensitivity: 0.9966328550825317, Specificity: 0.9825918423812791, MCC: 0.8543963526852826, IOU: 0.7483728729596584, PPV: 0.7504568793396297, DICE: 0.85109288128684\n",
      "Model saved at epoch 57\n"
     ]
    },
    {
     "name": "stderr",
     "output_type": "stream",
     "text": [
      "Epoch 58/100: 100%|██████████| 112/112 [05:25<00:00,  2.91s/batch, loss=1.04, iou=0.679]\n"
     ]
    },
    {
     "name": "stdout",
     "output_type": "stream",
     "text": [
      "Epoch [58/100], Loss: 0.9968638433409589, Accuracy: 0.9835829053606305, Sensitivity: 0.9967243339839849, Specificity: 0.9826748451599021, MCC: 0.8552504894824164, IOU: 0.7496067868931122, PPV: 0.7516377173382215, DICE: 0.852089405559064\n",
      "Model saved at epoch 58\n"
     ]
    },
    {
     "name": "stderr",
     "output_type": "stream",
     "text": [
      "Epoch 59/100: 100%|██████████| 112/112 [05:25<00:00,  2.91s/batch, loss=1.05, iou=0.62] \n"
     ]
    },
    {
     "name": "stdout",
     "output_type": "stream",
     "text": [
      "Epoch [59/100], Loss: 0.9968536957832319, Accuracy: 0.983827565397535, Sensitivity: 0.9967426383050161, Specificity: 0.9829343217575544, MCC: 0.8571649600161583, IOU: 0.7526284282998377, PPV: 0.7546657460421768, DICE: 0.8541713515346036\n",
      "Model saved at epoch 59\n"
     ]
    },
    {
     "name": "stderr",
     "output_type": "stream",
     "text": [
      "Epoch 60/100: 100%|██████████| 112/112 [05:25<00:00,  2.91s/batch, loss=1.04, iou=0.643]\n"
     ]
    },
    {
     "name": "stdout",
     "output_type": "stream",
     "text": [
      "Epoch [60/100], Loss: 0.9968533760734967, Accuracy: 0.9837353825569153, Sensitivity: 0.996752829185726, Specificity: 0.9828388413289678, MCC: 0.8561125603932791, IOU: 0.7510288422099363, PPV: 0.7530539404759089, DICE: 0.8529423447144399\n",
      "Model saved at epoch 60\n"
     ]
    },
    {
     "name": "stderr",
     "output_type": "stream",
     "text": [
      "Epoch 61/100: 100%|██████████| 112/112 [05:25<00:00,  2.91s/batch, loss=1.03, iou=0.731]\n"
     ]
    },
    {
     "name": "stdout",
     "output_type": "stream",
     "text": [
      "Epoch [61/100], Loss: 0.9968576677409666, Accuracy: 0.9835729939596993, Sensitivity: 0.9967587573436375, Specificity: 0.9826642434159918, MCC: 0.8549358093688707, IOU: 0.7491574637342063, PPV: 0.7511640361317878, DICE: 0.8516760703107336\n",
      "Model saved at epoch 61\n"
     ]
    },
    {
     "name": "stderr",
     "output_type": "stream",
     "text": [
      "Epoch 62/100: 100%|██████████| 112/112 [05:25<00:00,  2.91s/batch, loss=1.05, iou=0.588]\n"
     ]
    },
    {
     "name": "stdout",
     "output_type": "stream",
     "text": [
      "Epoch [62/100], Loss: 0.9969061931063022, Accuracy: 0.9823187334196908, Sensitivity: 0.9965980555234758, Specificity: 0.9813607921527415, MCC: 0.8445505485903139, IOU: 0.7333188897442139, PPV: 0.7353705190953452, DICE: 0.8399642596769551\n",
      "Model saved at epoch 62\n"
     ]
    },
    {
     "name": "stderr",
     "output_type": "stream",
     "text": [
      "Epoch 63/100: 100%|██████████| 112/112 [05:25<00:00,  2.91s/batch, loss=1.05, iou=0.49] \n"
     ]
    },
    {
     "name": "stdout",
     "output_type": "stream",
     "text": [
      "Epoch [63/100], Loss: 0.996873681566545, Accuracy: 0.9830761211259025, Sensitivity: 0.9967184042384609, Specificity: 0.9821546970804054, MCC: 0.850627092950014, IOU: 0.7427030626175604, PPV: 0.7447331390509528, DICE: 0.8467179718752001\n",
      "Model saved at epoch 63\n"
     ]
    },
    {
     "name": "stderr",
     "output_type": "stream",
     "text": [
      "Epoch 64/100: 100%|██████████| 112/112 [05:25<00:00,  2.91s/batch, loss=1, iou=0.822]   \n"
     ]
    },
    {
     "name": "stdout",
     "output_type": "stream",
     "text": [
      "Epoch [64/100], Loss: 0.9968427294599158, Accuracy: 0.983606789793287, Sensitivity: 0.9968683457693566, Specificity: 0.98270370562026, MCC: 0.8547144868509017, IOU: 0.7489837700817767, PPV: 0.750937829328085, DICE: 0.8512423799360399\n",
      "Model saved at epoch 64\n"
     ]
    },
    {
     "name": "stderr",
     "output_type": "stream",
     "text": [
      "Epoch 65/100: 100%|██████████| 112/112 [05:25<00:00,  2.91s/batch, loss=1.05, iou=0.591]\n"
     ]
    },
    {
     "name": "stdout",
     "output_type": "stream",
     "text": [
      "Epoch [65/100], Loss: 0.9968425322856221, Accuracy: 0.9836891974721637, Sensitivity: 0.9968659010613059, Specificity: 0.9827853626344093, MCC: 0.8555485688094644, IOU: 0.7501073260988173, PPV: 0.7520653236729423, DICE: 0.8522796946900185\n",
      "Model saved at epoch 65\n"
     ]
    },
    {
     "name": "stderr",
     "output_type": "stream",
     "text": [
      "Epoch 66/100: 100%|██████████| 112/112 [05:25<00:00,  2.91s/batch, loss=1.04, iou=0.722]\n"
     ]
    },
    {
     "name": "stdout",
     "output_type": "stream",
     "text": [
      "Epoch [66/100], Loss: 0.996825207556997, Accuracy: 0.9839937431471688, Sensitivity: 0.9969382841646651, Specificity: 0.9831051074920099, MCC: 0.8577752584727067, IOU: 0.7536485067591652, PPV: 0.7555841554503822, DICE: 0.8546752598574352\n",
      "Model saved at epoch 66\n"
     ]
    },
    {
     "name": "stderr",
     "output_type": "stream",
     "text": [
      "Epoch 67/100: 100%|██████████| 112/112 [05:25<00:00,  2.91s/batch, loss=1.03, iou=0.679]\n"
     ]
    },
    {
     "name": "stdout",
     "output_type": "stream",
     "text": [
      "Epoch [67/100], Loss: 0.9968188959839088, Accuracy: 0.9842292836734227, Sensitivity: 0.9969404693786192, Specificity: 0.9833489948178765, MCC: 0.8599219649263793, IOU: 0.7569440907072089, PPV: 0.758880593657775, DICE: 0.8571166444660842\n",
      "Model saved at epoch 67\n"
     ]
    },
    {
     "name": "stderr",
     "output_type": "stream",
     "text": [
      "Epoch 68/100: 100%|██████████| 112/112 [05:25<00:00,  2.91s/batch, loss=1.01, iou=0.759]\n"
     ]
    },
    {
     "name": "stdout",
     "output_type": "stream",
     "text": [
      "Epoch [68/100], Loss: 0.9968212410541517, Accuracy: 0.9841315831456866, Sensitivity: 0.9969590165471762, Specificity: 0.9832426172747535, MCC: 0.8593051905711733, IOU: 0.7559550457778671, PPV: 0.7578739362137827, DICE: 0.8564625468988879\n",
      "Model saved at epoch 68\n"
     ]
    },
    {
     "name": "stderr",
     "output_type": "stream",
     "text": [
      "Epoch 69/100: 100%|██████████| 112/112 [05:25<00:00,  2.91s/batch, loss=1.05, iou=0.631]\n"
     ]
    },
    {
     "name": "stdout",
     "output_type": "stream",
     "text": [
      "Epoch [69/100], Loss: 0.996821254491806, Accuracy: 0.9841159326689584, Sensitivity: 0.9969785678442642, Specificity: 0.9832231359131621, MCC: 0.8593593398478508, IOU: 0.7560129836758428, PPV: 0.7579219933737645, DICE: 0.8565483847195745\n",
      "Model saved at epoch 69\n"
     ]
    },
    {
     "name": "stderr",
     "output_type": "stream",
     "text": [
      "Epoch 70/100: 100%|██████████| 112/112 [05:25<00:00,  2.91s/batch, loss=1.05, iou=0.684]\n"
     ]
    },
    {
     "name": "stdout",
     "output_type": "stream",
     "text": [
      "Epoch [70/100], Loss: 0.9968466161351118, Accuracy: 0.983561532838004, Sensitivity: 0.9968757525983978, Specificity: 0.9826451190814922, MCC: 0.8547244607199019, IOU: 0.7487899119515052, PPV: 0.7507293480956608, DICE: 0.8514120208504478\n",
      "Model saved at epoch 70\n"
     ]
    },
    {
     "name": "stderr",
     "output_type": "stream",
     "text": [
      "Epoch 71/100: 100%|██████████| 112/112 [05:25<00:00,  2.91s/batch, loss=1.02, iou=0.744]\n"
     ]
    },
    {
     "name": "stdout",
     "output_type": "stream",
     "text": [
      "Epoch [71/100], Loss: 0.9968281565234065, Accuracy: 0.9838949867657253, Sensitivity: 0.9969539753467916, Specificity: 0.9829966523919943, MCC: 0.8570835588484228, IOU: 0.7524773308117022, PPV: 0.7543962097514647, DICE: 0.8539668313469606\n",
      "Model saved at epoch 71\n"
     ]
    },
    {
     "name": "stderr",
     "output_type": "stream",
     "text": [
      "Epoch 72/100: 100%|██████████| 112/112 [05:25<00:00,  2.91s/batch, loss=1.04, iou=0.705]\n"
     ]
    },
    {
     "name": "stdout",
     "output_type": "stream",
     "text": [
      "Epoch [72/100], Loss: 0.996819314413837, Accuracy: 0.9839873995099749, Sensitivity: 0.9970204307087809, Specificity: 0.9830870045572754, MCC: 0.8580117183456425, IOU: 0.753881488430666, PPV: 0.7557588247756011, DICE: 0.8550233394437418\n",
      "Model saved at epoch 72\n"
     ]
    },
    {
     "name": "stderr",
     "output_type": "stream",
     "text": [
      "Epoch 73/100: 100%|██████████| 112/112 [05:25<00:00,  2.91s/batch, loss=1.02, iou=0.68] \n"
     ]
    },
    {
     "name": "stdout",
     "output_type": "stream",
     "text": [
      "Epoch [73/100], Loss: 0.9968218074313232, Accuracy: 0.9838651588984898, Sensitivity: 0.9970220485249397, Specificity: 0.982958220740126, MCC: 0.8568859943247714, IOU: 0.752173662758013, PPV: 0.7540435700843118, DICE: 0.8537391282032182\n",
      "Model saved at epoch 73\n"
     ]
    },
    {
     "name": "stderr",
     "output_type": "stream",
     "text": [
      "Epoch 74/100: 100%|██████████| 112/112 [05:25<00:00,  2.91s/batch, loss=1.01, iou=0.752]\n"
     ]
    },
    {
     "name": "stdout",
     "output_type": "stream",
     "text": [
      "Epoch [74/100], Loss: 0.9968312542353358, Accuracy: 0.9835644704954964, Sensitivity: 0.9969962693745289, Specificity: 0.9826474500685983, MCC: 0.8544888480019784, IOU: 0.7485368979512806, PPV: 0.7504068936112633, DICE: 0.8510254913998481\n",
      "Model saved at epoch 74\n"
     ]
    },
    {
     "name": "stderr",
     "output_type": "stream",
     "text": [
      "Epoch 75/100: 100%|██████████| 112/112 [05:25<00:00,  2.91s/batch, loss=1.03, iou=0.718]\n"
     ]
    },
    {
     "name": "stdout",
     "output_type": "stream",
     "text": [
      "Epoch [75/100], Loss: 0.9968233373282211, Accuracy: 0.9837312017168317, Sensitivity: 0.997050248539929, Specificity: 0.9828149702859502, MCC: 0.8558179960863547, IOU: 0.7504226152009649, PPV: 0.7522678883292625, DICE: 0.8525900836367376\n",
      "Model saved at epoch 75\n"
     ]
    },
    {
     "name": "stderr",
     "output_type": "stream",
     "text": [
      "Epoch 76/100: 100%|██████████| 112/112 [05:25<00:00,  2.91s/batch, loss=1.05, iou=0.703]\n"
     ]
    },
    {
     "name": "stdout",
     "output_type": "stream",
     "text": [
      "Epoch [76/100], Loss: 0.9968101295775601, Accuracy: 0.9840382252420697, Sensitivity: 0.9970919573839085, Specificity: 0.9831356090695256, MCC: 0.8583123536537286, IOU: 0.7544098379142505, PPV: 0.7562418102675209, DICE: 0.8553113516234714\n",
      "Model saved at epoch 76\n"
     ]
    },
    {
     "name": "stderr",
     "output_type": "stream",
     "text": [
      "Epoch 77/100: 100%|██████████| 112/112 [05:25<00:00,  2.91s/batch, loss=1.04, iou=0.639]\n"
     ]
    },
    {
     "name": "stdout",
     "output_type": "stream",
     "text": [
      "Epoch [77/100], Loss: 0.9968077497822898, Accuracy: 0.9840590528079441, Sensitivity: 0.9970929630607005, Specificity: 0.9831599833521895, MCC: 0.8582392242100788, IOU: 0.7542722881511775, PPV: 0.7561027605268943, DICE: 0.85520294282267\n",
      "Model saved at epoch 77\n"
     ]
    },
    {
     "name": "stderr",
     "output_type": "stream",
     "text": [
      "Epoch 78/100: 100%|██████████| 112/112 [05:25<00:00,  2.91s/batch, loss=1.04, iou=0.67] \n"
     ]
    },
    {
     "name": "stdout",
     "output_type": "stream",
     "text": [
      "Epoch [78/100], Loss: 0.9968036418514592, Accuracy: 0.9841696619987488, Sensitivity: 0.9970939832603583, Specificity: 0.9832766645763501, MCC: 0.8589750389613869, IOU: 0.7554976323076668, PPV: 0.7573311185784867, DICE: 0.8559756681403058\n",
      "Model saved at epoch 78\n"
     ]
    },
    {
     "name": "stderr",
     "output_type": "stream",
     "text": [
      "Epoch 79/100: 100%|██████████| 112/112 [05:25<00:00,  2.91s/batch, loss=1.02, iou=0.794]\n"
     ]
    },
    {
     "name": "stdout",
     "output_type": "stream",
     "text": [
      "Epoch [79/100], Loss: 0.9968012216101799, Accuracy: 0.9841940062386649, Sensitivity: 0.9971244787974749, Specificity: 0.9832959260885312, MCC: 0.8595115175835627, IOU: 0.7562499027066305, PPV: 0.7580644610108858, DICE: 0.856637478615352\n",
      "Model saved at epoch 79\n"
     ]
    },
    {
     "name": "stderr",
     "output_type": "stream",
     "text": [
      "Epoch 80/100: 100%|██████████| 112/112 [05:25<00:00,  2.91s/batch, loss=1.05, iou=0.529]\n"
     ]
    },
    {
     "name": "stdout",
     "output_type": "stream",
     "text": [
      "Epoch [80/100], Loss: 0.9968045302001494, Accuracy: 0.9840317283357892, Sensitivity: 0.9971353186417542, Specificity: 0.9831270623928294, MCC: 0.8579631099457743, IOU: 0.7538322260618745, PPV: 0.755629981752947, DICE: 0.8548912196703954\n",
      "Model saved at epoch 80\n"
     ]
    },
    {
     "name": "stderr",
     "output_type": "stream",
     "text": [
      "Epoch 81/100: 100%|██████████| 112/112 [05:25<00:00,  2.91s/batch, loss=1.03, iou=0.782]\n"
     ]
    },
    {
     "name": "stdout",
     "output_type": "stream",
     "text": [
      "Epoch [81/100], Loss: 0.9968004017802221, Accuracy: 0.984240574496133, Sensitivity: 0.9971171481312027, Specificity: 0.9833475739162763, MCC: 0.8597609875475902, IOU: 0.7566755238290422, PPV: 0.7584929154549936, DICE: 0.8568870312834701\n",
      "Model saved at epoch 81\n"
     ]
    },
    {
     "name": "stderr",
     "output_type": "stream",
     "text": [
      "Epoch 82/100: 100%|██████████| 112/112 [05:25<00:00,  2.91s/batch, loss=1.05, iou=0.564]\n"
     ]
    },
    {
     "name": "stdout",
     "output_type": "stream",
     "text": [
      "Epoch [82/100], Loss: 0.9967970108347279, Accuracy: 0.9841787729944501, Sensitivity: 0.9971715009284224, Specificity: 0.9832793430597675, MCC: 0.8592415751687655, IOU: 0.7558051389386401, PPV: 0.7575875064494842, DICE: 0.8563193011112891\n",
      "Model saved at epoch 82\n"
     ]
    },
    {
     "name": "stderr",
     "output_type": "stream",
     "text": [
      "Epoch 83/100: 100%|██████████| 112/112 [05:25<00:00,  2.91s/batch, loss=1.04, iou=0.647]\n"
     ]
    },
    {
     "name": "stdout",
     "output_type": "stream",
     "text": [
      "Epoch [83/100], Loss: 0.9968007653951645, Accuracy: 0.9840365477970668, Sensitivity: 0.997172190927632, Specificity: 0.9831292329184375, MCC: 0.8580120537714679, IOU: 0.7539587774630215, PPV: 0.7557361916192622, DICE: 0.8549193237022852\n",
      "Model saved at epoch 83\n"
     ]
    },
    {
     "name": "stderr",
     "output_type": "stream",
     "text": [
      "Epoch 84/100: 100%|██████████| 112/112 [05:25<00:00,  2.91s/batch, loss=1.05, iou=0.602]\n"
     ]
    },
    {
     "name": "stdout",
     "output_type": "stream",
     "text": [
      "Epoch [84/100], Loss: 0.9968001599024449, Accuracy: 0.9841061149324689, Sensitivity: 0.997162402493717, Specificity: 0.9832006220511017, MCC: 0.8588715166203506, IOU: 0.7552093596814722, PPV: 0.7569908625557761, DICE: 0.85594217504993\n",
      "Model saved at epoch 84\n"
     ]
    },
    {
     "name": "stderr",
     "output_type": "stream",
     "text": [
      "Epoch 85/100: 100%|██████████| 112/112 [05:25<00:00,  2.91s/batch, loss=1.03, iou=0.688]\n"
     ]
    },
    {
     "name": "stdout",
     "output_type": "stream",
     "text": [
      "Epoch [85/100], Loss: 0.9967964755903397, Accuracy: 0.9840643150465829, Sensitivity: 0.9972105162419769, Specificity: 0.983153788031636, MCC: 0.8584971321382321, IOU: 0.7546680743394757, PPV: 0.7564209219167709, DICE: 0.8554841593378754\n",
      "Model saved at epoch 85\n"
     ]
    },
    {
     "name": "stderr",
     "output_type": "stream",
     "text": [
      "Epoch 86/100: 100%|██████████| 112/112 [05:25<00:00,  2.91s/batch, loss=1.03, iou=0.743]\n"
     ]
    },
    {
     "name": "stdout",
     "output_type": "stream",
     "text": [
      "Epoch [86/100], Loss: 0.996802659306143, Accuracy: 0.983872047492436, Sensitivity: 0.9972027089384715, Specificity: 0.9829533401143061, MCC: 0.8568102335561878, IOU: 0.7520184666946222, PPV: 0.7537711329815859, DICE: 0.8536187614941971\n",
      "Model saved at epoch 86\n"
     ]
    },
    {
     "name": "stderr",
     "output_type": "stream",
     "text": [
      "Epoch 87/100: 100%|██████████| 112/112 [05:25<00:00,  2.91s/batch, loss=1.02, iou=0.743]\n"
     ]
    },
    {
     "name": "stdout",
     "output_type": "stream",
     "text": [
      "Epoch [87/100], Loss: 0.9968421734603388, Accuracy: 0.9828748277255467, Sensitivity: 0.9970603395804604, Specificity: 0.9819193014276256, MCC: 0.8489456616329745, IOU: 0.7402771016714454, PPV: 0.7420729914159174, DICE: 0.8446941033323518\n",
      "Model saved at epoch 87\n"
     ]
    },
    {
     "name": "stderr",
     "output_type": "stream",
     "text": [
      "Epoch 88/100: 100%|██████████| 112/112 [05:25<00:00,  2.91s/batch, loss=1.03, iou=0.728]\n"
     ]
    },
    {
     "name": "stdout",
     "output_type": "stream",
     "text": [
      "Epoch [88/100], Loss: 0.9967771389388612, Accuracy: 0.984465411731175, Sensitivity: 0.9972747902328765, Specificity: 0.9835751142211827, MCC: 0.8614079105421337, IOU: 0.7592609168007884, PPV: 0.760992802284874, DICE: 0.8586493543232555\n",
      "Model saved at epoch 88\n"
     ]
    },
    {
     "name": "stderr",
     "output_type": "stream",
     "text": [
      "Epoch 89/100: 100%|██████████| 112/112 [05:25<00:00,  2.91s/batch, loss=1.01, iou=0.797]\n"
     ]
    },
    {
     "name": "stdout",
     "output_type": "stream",
     "text": [
      "Epoch [89/100], Loss: 0.9967774305758732, Accuracy: 0.9843009880610875, Sensitivity: 0.9973095813016758, Specificity: 0.9834012001947421, MCC: 0.8599937505787539, IOU: 0.7570072683488196, PPV: 0.7587071853590095, DICE: 0.8570758980657118\n",
      "Model saved at epoch 89\n"
     ]
    },
    {
     "name": "stderr",
     "output_type": "stream",
     "text": [
      "Epoch 90/100: 100%|██████████| 112/112 [05:25<00:00,  2.91s/batch, loss=1.04, iou=0.542]\n"
     ]
    },
    {
     "name": "stdout",
     "output_type": "stream",
     "text": [
      "Epoch [90/100], Loss: 0.9967689319912877, Accuracy: 0.9844827992575509, Sensitivity: 0.9973379282092363, Specificity: 0.983589003218707, MCC: 0.8615594609490894, IOU: 0.7595213860568854, PPV: 0.7612093246293966, DICE: 0.8587919597760229\n",
      "Model saved at epoch 90\n"
     ]
    },
    {
     "name": "stderr",
     "output_type": "stream",
     "text": [
      "Epoch 91/100: 100%|██████████| 112/112 [05:25<00:00,  2.91s/batch, loss=1.04, iou=0.681]\n"
     ]
    },
    {
     "name": "stdout",
     "output_type": "stream",
     "text": [
      "Epoch [91/100], Loss: 0.996787142008543, Accuracy: 0.9839373401233128, Sensitivity: 0.9973048142876869, Specificity: 0.9830203913954466, MCC: 0.856944989996765, IOU: 0.7523388067778197, PPV: 0.7540256132792423, DICE: 0.8536390708443264\n",
      "Model saved at epoch 91\n"
     ]
    },
    {
     "name": "stderr",
     "output_type": "stream",
     "text": [
      "Epoch 92/100: 100%|██████████| 112/112 [05:25<00:00,  2.91s/batch, loss=1.04, iou=0.656]\n"
     ]
    },
    {
     "name": "stdout",
     "output_type": "stream",
     "text": [
      "Epoch [92/100], Loss: 0.996769156306982, Accuracy: 0.9845295463289533, Sensitivity: 0.9973230895688252, Specificity: 0.9836446122817246, MCC: 0.8617175361414865, IOU: 0.7597059133866485, PPV: 0.7614164871807619, DICE: 0.8589642534162966\n",
      "Model saved at epoch 92\n"
     ]
    },
    {
     "name": "stderr",
     "output_type": "stream",
     "text": [
      "Epoch 93/100: 100%|██████████| 112/112 [05:25<00:00,  2.91s/batch, loss=1.04, iou=0.589]\n"
     ]
    },
    {
     "name": "stdout",
     "output_type": "stream",
     "text": [
      "Epoch [93/100], Loss: 0.9967768888122269, Accuracy: 0.9842961856297084, Sensitivity: 0.99731118974607, Specificity: 0.9833962367655662, MCC: 0.8598862305655165, IOU: 0.7568682072361834, PPV: 0.7585697970859442, DICE: 0.8569426190957826\n",
      "Model saved at epoch 93\n"
     ]
    },
    {
     "name": "stderr",
     "output_type": "stream",
     "text": [
      "Epoch 94/100: 100%|██████████| 112/112 [05:25<00:00,  2.91s/batch, loss=1.04, iou=0.642]\n"
     ]
    },
    {
     "name": "stdout",
     "output_type": "stream",
     "text": [
      "Epoch [94/100], Loss: 0.9967607126704284, Accuracy: 0.9845602086612156, Sensitivity: 0.9974009212909097, Specificity: 0.9836677632423579, MCC: 0.8620798499282795, IOU: 0.7602700619505499, PPV: 0.7619293201259679, DICE: 0.859367078192321\n",
      "Model saved at epoch 94\n"
     ]
    },
    {
     "name": "stderr",
     "output_type": "stream",
     "text": [
      "Epoch 95/100: 100%|██████████| 112/112 [05:26<00:00,  2.92s/batch, loss=1.02, iou=0.685]\n"
     ]
    },
    {
     "name": "stdout",
     "output_type": "stream",
     "text": [
      "Epoch [95/100], Loss: 0.9967612765197243, Accuracy: 0.9844856432506016, Sensitivity: 0.9974042604272251, Specificity: 0.9835934105810471, MCC: 0.8612856385627335, IOU: 0.7590451594522759, PPV: 0.760702606264661, DICE: 0.8584476126772917\n",
      "Model saved at epoch 95\n"
     ]
    },
    {
     "name": "stderr",
     "output_type": "stream",
     "text": [
      "Epoch 96/100: 100%|██████████| 112/112 [05:27<00:00,  2.92s/batch, loss=1.02, iou=0.744]\n"
     ]
    },
    {
     "name": "stdout",
     "output_type": "stream",
     "text": [
      "Epoch [96/100], Loss: 0.9967903963157109, Accuracy: 0.9837363617760795, Sensitivity: 0.9973128625120768, Specificity: 0.9828130414153048, MCC: 0.8552771644472903, IOU: 0.7500704970132988, PPV: 0.7517583390848582, DICE: 0.851637781702993\n",
      "Model saved at epoch 96\n"
     ]
    },
    {
     "name": "stderr",
     "output_type": "stream",
     "text": [
      "Epoch 97/100: 100%|██████████| 112/112 [05:27<00:00,  2.92s/batch, loss=1.01, iou=0.846]\n"
     ]
    },
    {
     "name": "stdout",
     "output_type": "stream",
     "text": [
      "Epoch [97/100], Loss: 0.9967980705467718, Accuracy: 0.9835286225591388, Sensitivity: 0.9973180470176651, Specificity: 0.9825896523178137, MCC: 0.8537993755337773, IOU: 0.7475242991365555, PPV: 0.7491993390695371, DICE: 0.8501081741625919\n",
      "Model saved at epoch 97\n"
     ]
    },
    {
     "name": "stderr",
     "output_type": "stream",
     "text": [
      "Epoch 98/100: 100%|██████████| 112/112 [05:27<00:00,  2.93s/batch, loss=1.04, iou=0.625]\n"
     ]
    },
    {
     "name": "stdout",
     "output_type": "stream",
     "text": [
      "Epoch [98/100], Loss: 0.9967824183404446, Accuracy: 0.9838092838014875, Sensitivity: 0.9973442173070594, Specificity: 0.9828917260254524, MCC: 0.8549895473607151, IOU: 0.7494280422187207, PPV: 0.7510958514060799, DICE: 0.8512800207309953\n",
      "Model saved at epoch 98\n"
     ]
    },
    {
     "name": "stderr",
     "output_type": "stream",
     "text": [
      "Epoch 99/100: 100%|██████████| 112/112 [05:27<00:00,  2.93s/batch, loss=1.04, iou=0.499]\n"
     ]
    },
    {
     "name": "stdout",
     "output_type": "stream",
     "text": [
      "Epoch [99/100], Loss: 0.9967614489474467, Accuracy: 0.9843198827334813, Sensitivity: 0.9974302563320121, Specificity: 0.9834210305161453, MCC: 0.859534551884905, IOU: 0.7563423813192026, PPV: 0.7579768749796446, DICE: 0.8564396115818311\n",
      "Model saved at epoch 99\n"
     ]
    },
    {
     "name": "stderr",
     "output_type": "stream",
     "text": [
      "Epoch 100/100:  23%|██▎       | 26/112 [01:16<04:11,  2.92s/batch, loss=1.02, iou=0.817]"
     ]
    }
   ],
   "source": [
    "from tqdm import tqdm  # Import tqdm for progress bar\n",
    "import datetime\n",
    "import os\n",
    "from torch.utils.tensorboard import SummaryWriter\n",
    "\n",
    "if __name__ == \"__main__\":\n",
    "    # Initialize your model\n",
    "    model = UNet_3Plus(in_channels=1).cuda()\n",
    "    model.load_state_dict(torch.load('/kaggle/input/model-iou/latest_model.pth'))\n",
    "    model.train()\n",
    "\n",
    "    # Define loss function and optimizer\n",
    "    criterion = IoUSensitivityLoss().cuda()\n",
    "    # optimizer = torch.optim.Adam(model.parameters(), lr=3e-4)\n",
    "    optimizer = torch.optim.AdamW(model.parameters(), lr=0.0001)\n",
    "\n",
    "    logdir = os.path.join(\"logs\", datetime.datetime.now().strftime(\"%Y%m%d-%H%M%S\"))\n",
    "    writer = SummaryWriter(log_dir=logdir)\n",
    "\n",
    "    # Training loop\n",
    "    num_epochs = 100\n",
    "    batch_size = 2\n",
    "    for epoch in range(num_epochs):\n",
    "        running_loss = 0.0\n",
    "        accuracy_scores = []\n",
    "        senstivity_scores = []\n",
    "        specificity_scores = []\n",
    "        mcc_scores = []\n",
    "        iou_scores = []\n",
    "        ppv_scores = []\n",
    "        dice_scores = []\n",
    "\n",
    "        # Add tqdm to track the batch loop\n",
    "        with tqdm(total=len(train_loader), desc=f\"Epoch {epoch+1}/{num_epochs}\", unit=\"batch\") as pbar:\n",
    "            for images, masks in train_loader:\n",
    "                # print(images.shape)\n",
    "                images_batches = images.view(4,4, images.size(2), images.size(3), images.size(4))\n",
    "                masks_batches = masks.view(4,4, masks.size(2), masks.size(3), masks.size(4))\n",
    "\n",
    "                for images,masks in zip(images_batches,masks_batches):\n",
    "                    # Forward pass\n",
    "                    images, masks = images.cuda(), masks.cuda()\n",
    "                    \n",
    "                    # print(\"Initial images shape:\", images.shape)\n",
    "                    # print(\"Initial masks shape:\", masks.shape)\n",
    "                    main_output = model(images)\n",
    "                    loss = criterion(main_output, masks)\n",
    "    \n",
    "                    \n",
    "                    acc = accuracy(main_output, masks)\n",
    "                    sens = sensitivity(main_output, masks)\n",
    "                    spec = specificity(main_output, masks)\n",
    "                    mccM = mcc(main_output, masks)\n",
    "                    iouM = iou(main_output, masks)\n",
    "                    ppvM = ppv(main_output, masks)\n",
    "                    dice = dice_coefficient(main_output, masks)\n",
    "    \n",
    "                    # Backward pass\n",
    "                    optimizer.zero_grad()\n",
    "                    loss.backward()\n",
    "                    optimizer.step()\n",
    "    \n",
    "                    running_loss += loss.item()\n",
    "                    accuracy_scores.append(acc)\n",
    "                    senstivity_scores.append(sens)\n",
    "                    specificity_scores.append(spec)\n",
    "                    mcc_scores.append(mccM)\n",
    "                    iou_scores.append(iouM)\n",
    "                    ppv_scores.append(ppvM)\n",
    "                    dice_scores.append(dice)\n",
    "    \n",
    "                    # Log final output image to TensorBoard\n",
    "                    output_image = main_output[0].cpu().detach()\n",
    "                    # Remove the extra batch dimension from mask_image\n",
    "                    image=images[0].cpu().detach()\n",
    "                    mask_image = masks[0].cpu().detach()\n",
    "                    writer.add_image(\"Output/input\", image, epoch, dataformats=\"CHW\")\n",
    "\n",
    "                    writer.add_image(\"Output/ground_truth\", mask_image, epoch, dataformats=\"CHW\")\n",
    "                    writer.add_image(\"Output/final_prediction\", output_image, epoch, dataformats=\"CHW\")\n",
    "                # Update tqdm progress bar\n",
    "                pbar.update(1)\n",
    "                pbar.set_postfix({\"loss\": loss.item(), \"iou\": iouM})\n",
    "\n",
    "        # Calculate average metrics\n",
    "        average_loss = running_loss / (len(train_loader)*4)\n",
    "        average_accuracy = sum(accuracy_scores) / (len(accuracy_scores))\n",
    "        average_sens = sum(senstivity_scores) / (len(senstivity_scores))\n",
    "        average_spec = sum(specificity_scores) / (len(specificity_scores))\n",
    "        average_mcc = sum(mcc_scores) / (len(mcc_scores))\n",
    "        average_iou = sum(iou_scores) / (len(iou_scores))\n",
    "        average_ppv = sum(ppv_scores) / (len(ppv_scores))\n",
    "        average_dice = sum(dice_scores) / (len(dice_scores))\n",
    "\n",
    "        # Log metrics to TensorBoard\n",
    "        writer.add_scalar(\"Loss/train\", average_loss, epoch)\n",
    "        writer.add_scalar(\"Accuracy/train\", average_accuracy, epoch)\n",
    "        writer.add_scalar(\"Sensitivity/train\", average_sens, epoch)\n",
    "        writer.add_scalar(\"Specificity/train\", average_spec, epoch)\n",
    "        writer.add_scalar(\"MCC/train\", average_mcc, epoch)\n",
    "        writer.add_scalar(\"IOU/train\", average_iou, epoch)\n",
    "        writer.add_scalar(\"PPV/train\", average_ppv, epoch)\n",
    "        writer.add_scalar(\"Dice/train\", average_dice, epoch)\n",
    "        writer.add_scalar(\"Learning Rate\", optimizer.param_groups[0][\"lr\"], epoch)  # Log LR\n",
    "\n",
    "        print(f\"Epoch [{epoch+1}/{num_epochs}], Loss: {average_loss}, Accuracy: {average_accuracy}, \"\n",
    "              f\"Sensitivity: {average_sens}, Specificity: {average_spec}, MCC: {average_mcc}, \"\n",
    "              f\"IOU: {average_iou}, PPV: {average_ppv}, DICE: {average_dice}\")\n",
    "        torch.save(model.state_dict(), '/kaggle/working/latest_model.pth')\n",
    "        print(f\"Model saved at epoch {epoch + 1}\")\n",
    "\n",
    "    writer.close()\n"
   ]
  },
  {
   "cell_type": "markdown",
   "metadata": {},
   "source": [
    "## Testing model"
   ]
  },
  {
   "cell_type": "code",
   "execution_count": 33,
   "metadata": {
    "execution": {
     "iopub.execute_input": "2024-11-20T02:37:06.475865Z",
     "iopub.status.busy": "2024-11-20T02:37:06.475418Z",
     "iopub.status.idle": "2024-11-20T02:37:23.830111Z",
     "shell.execute_reply": "2024-11-20T02:37:23.829222Z",
     "shell.execute_reply.started": "2024-11-20T02:37:06.475832Z"
    },
    "trusted": true
   },
   "outputs": [
    {
     "name": "stdout",
     "output_type": "stream",
     "text": [
      "Test Loss: 0.9993157487894807, Test Accuracy: 0.9792648383549282, Test Sensitivity: 0.9206113915098431, Test Specificity: 0.9820099532157763, Test MCC: 0.8336391609337903, Test IOU: 0.7273806639879544, Test PPV: 0.7780397468213401, Test DICE: 0.8392552964352568\n"
     ]
    }
   ],
   "source": [
    "# Testing phase\n",
    "with torch.no_grad():  # No need to calculate gradients during testing\n",
    "    model.eval()  # Set the model to evaluation mode\n",
    "    test_loss = 0.0\n",
    "    test_accuracy_scores = []\n",
    "    test_sensitivity_scores = []\n",
    "    test_specificity_scores = []\n",
    "    test_mcc_scores = []\n",
    "    test_iou_scores = []\n",
    "    test_ppv_scores = []\n",
    "    test_dice_scores = []\n",
    "\n",
    "    for images, masks in test_loader:  # Replace with your actual test loader\n",
    "        # Reshape images and masks to 4x4 batches as in training\n",
    "        images_batches = images.view(4,4, images.size(2), images.size(3), images.size(4))  # Shape becomes [32, 1, 256, 256]\n",
    "        masks_batches = masks.view(4,4, masks.size(2), masks.size(3), masks.size(4))\n",
    "        \n",
    "        # masks.squeeze(0)\n",
    "        for images,masks in zip(images_batches,masks_batches):\n",
    "            images, masks = images.cuda(), masks.cuda()\n",
    "\n",
    "            # Forward pass\n",
    "            main_output = model(images)\n",
    "            loss = criterion(main_output, masks)\n",
    "\n",
    "            # Compute metrics\n",
    "            acc = accuracy(main_output, masks)\n",
    "            sens = sensitivity(main_output, masks)\n",
    "            spec = specificity(main_output, masks)\n",
    "            mccM = mcc(main_output, masks)\n",
    "            iouM = iou(main_output, masks)\n",
    "            ppvM = ppv(main_output, masks)\n",
    "            dice = dice_coefficient(main_output, masks)\n",
    "\n",
    "            test_loss += loss.item()\n",
    "            test_accuracy_scores.append(acc)\n",
    "            test_sensitivity_scores.append(sens)\n",
    "            test_specificity_scores.append(spec)\n",
    "            test_mcc_scores.append(mccM)\n",
    "            test_iou_scores.append(iouM)\n",
    "            test_ppv_scores.append(ppvM)\n",
    "            test_dice_scores.append(dice)\n",
    "\n",
    "    # Calculate average metrics for the test dataset\n",
    "    avg_test_loss = test_loss / (len(test_loader) * 4)\n",
    "    avg_test_accuracy = sum(test_accuracy_scores) / len(test_accuracy_scores)\n",
    "    avg_test_sensitivity = sum(test_sensitivity_scores) / len(test_sensitivity_scores)\n",
    "    avg_test_specificity = sum(test_specificity_scores) / len(test_specificity_scores)\n",
    "    avg_test_mcc = sum(test_mcc_scores) / len(test_mcc_scores)\n",
    "    avg_test_iou = sum(test_iou_scores) / len(test_iou_scores)\n",
    "    avg_test_ppv = sum(test_ppv_scores) / len(test_ppv_scores)\n",
    "    avg_test_dice = sum(test_dice_scores) / len(test_dice_scores)\n",
    "\n",
    "    # Output test metrics\n",
    "    print(f\"Test Loss: {avg_test_loss}, Test Accuracy: {avg_test_accuracy}, \"\n",
    "          f\"Test Sensitivity: {avg_test_sensitivity}, Test Specificity: {avg_test_specificity}, \"\n",
    "          f\"Test MCC: {avg_test_mcc}, Test IOU: {avg_test_iou}, Test PPV: {avg_test_ppv}, Test DICE: {avg_test_dice}\")"
   ]
  },
  {
   "cell_type": "markdown",
   "metadata": {},
   "source": [
    "## Predicting output"
   ]
  },
  {
   "cell_type": "code",
   "execution_count": 34,
   "metadata": {
    "execution": {
     "iopub.execute_input": "2024-11-20T02:37:42.391795Z",
     "iopub.status.busy": "2024-11-20T02:37:42.391198Z",
     "iopub.status.idle": "2024-11-20T02:37:42.399930Z",
     "shell.execute_reply": "2024-11-20T02:37:42.398983Z",
     "shell.execute_reply.started": "2024-11-20T02:37:42.391762Z"
    },
    "trusted": true
   },
   "outputs": [],
   "source": [
    "def predict(model, image, preprocess_transform, pad_transform, tile_size=256):\n",
    "    # Step 1: Apply PreprocessImage and Pad transformations\n",
    "    image_preprocessed = preprocess_transform(image)\n",
    "    image_padded = pad_transform(image_preprocessed)  # Now size 1024x1024\n",
    "\n",
    "    # Convert to tensor and add batch dimension\n",
    "    image_tensor = transforms.ToTensor()(image_padded).unsqueeze(0)  # Shape: [1, 1, 1024, 1024]\n",
    "\n",
    "    # Step 2: Split into 256x256 tiles using einops\n",
    "    tiles = rearrange(image_tensor, '1 1 (h tile_h) (w tile_w) -> (h w) 1 tile_h tile_w', tile_h=tile_size, tile_w=tile_size)\n",
    "\n",
    "    # Move tiles to the model’s device\n",
    "    tiles = tiles.to(next(model.parameters()).device)\n",
    "\n",
    "    # Step 3: Pass tiles through the model one by one and collect outputs\n",
    "    with torch.no_grad():\n",
    "        output_tiles = []\n",
    "        for tile in tiles:\n",
    "            output_tile = model(tile.unsqueeze(0))  # Shape: [1, 1, 256, 256]\n",
    "            output_tiles.append(output_tile.squeeze(0))  # Shape after squeeze: [1, 256, 256]\n",
    "\n",
    "        output_tiles = torch.stack(output_tiles)  # Shape: [16, 1, 256, 256]\n",
    "\n",
    "    # Step 4: Reconstruct the 1024x1024 output mask using einops\n",
    "    output_image = rearrange(output_tiles, '(h w) 1 tile_h tile_w -> 1 1 (h tile_h) (w tile_w)', h=4, w=4)\n",
    "\n",
    "    # Step 5: Unpad the output to restore the original image size\n",
    "    # Remove padding: (left, top, right, bottom) = (0, 32, 25, 32)\n",
    "    output_image = output_image[:, :, 32:-32, 0:-25]\n",
    "\n",
    "    # Convert to numpy and rescale to 0-255 for displaying\n",
    "    output_image_np = output_image.squeeze().cpu().numpy()\n",
    "    output_image_np = (output_image_np * 255).clip(0, 255).astype(np.uint8)\n",
    "    output_image_pil = Image.fromarray(output_image_np)\n",
    "\n",
    "    # Display the input image, predicted output\n",
    "    fig, axes = plt.subplots(1, 2, figsize=(12, 6))\n",
    "    axes[0].imshow(image, cmap='gray')\n",
    "    axes[0].set_title(\"Input Image\")\n",
    "    axes[0].axis('off')\n",
    "\n",
    "    axes[1].imshow(output_image_pil, cmap='gray')\n",
    "    axes[1].set_title(\"Predicted Output\")\n",
    "    axes[1].axis('off')\n",
    "\n",
    "    plt.show()\n",
    "\n",
    "    return output_image_pil\n"
   ]
  },
  {
   "cell_type": "code",
   "execution_count": 37,
   "metadata": {
    "execution": {
     "iopub.execute_input": "2024-11-20T02:48:40.006033Z",
     "iopub.status.busy": "2024-11-20T02:48:40.005352Z",
     "iopub.status.idle": "2024-11-20T02:48:41.059106Z",
     "shell.execute_reply": "2024-11-20T02:48:41.058148Z",
     "shell.execute_reply.started": "2024-11-20T02:48:40.005998Z"
    },
    "trusted": true
   },
   "outputs": [
    {
     "data": {
      "image/png": "[encoded data removed]",
      "text/plain": [
       "<Figure size 1200x600 with 2 Axes>"
      ]
     },
     "metadata": {},
     "output_type": "display_data"
    }
   ],
   "source": [
    "image = Image.open('/kaggle/input/augmented-augment/augmented_images/4faefe3c-434f-4933-8517-100cd07ccd8e.png')\n",
    "\n",
    "# Call the predict function\n",
    "predicted_image = predict(model, image, preprocess_transform, pad_transform)"
   ]
  },
  {
   "cell_type": "code",
   "execution_count": null,
   "metadata": {
    "trusted": true
   },
   "outputs": [],
   "source": [
    "import shutil\n",
    "\n",
    "# Replace \"logs\" with the name of your logs directory if it's different\n",
    "shutil.make_archive(\"/kaggle/working/logs\", 'zip', \"logs\")"
   ]
  },
  {
   "cell_type": "code",
   "execution_count": null,
   "metadata": {},
   "outputs": [],
   "source": []
  }
 ],
 "metadata": {
  "kaggle": {
   "accelerator": "gpu",
   "dataSources": [
    {
     "datasetId": 6037348,
     "sourceId": 9841298,
     "sourceType": "datasetVersion"
    },
    {
     "datasetId": 6112082,
     "sourceId": 9940999,
     "sourceType": "datasetVersion"
    }
   ],
   "dockerImageVersionId": 30787,
   "isGpuEnabled": true,
   "isInternetEnabled": true,
   "language": "python",
   "sourceType": "notebook"
  },
  "kernelspec": {
   "display_name": "Python 3",
   "language": "python",
   "name": "python3"
  },
  "language_info": {
   "codemirror_mode": {
    "name": "ipython",
    "version": 3
   },
   "file_extension": ".py",
   "mimetype": "text/x-python",
   "name": "python",
   "nbconvert_exporter": "python",
   "pygments_lexer": "ipython3",
   "version": "3.10.14"
  }
 },
 "nbformat": 4,
 "nbformat_minor": 4
}
