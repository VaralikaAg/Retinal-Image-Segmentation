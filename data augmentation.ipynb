{
 "cells": [
  {
   "cell_type": "markdown",
   "metadata": {},
   "source": [
    "## Importing important libraries"
   ]
  },
  {
   "cell_type": "code",
   "execution_count": null,
   "metadata": {
    "execution": {
     "iopub.execute_input": "2024-11-24T09:54:48.755873Z",
     "iopub.status.busy": "2024-11-24T09:54:48.754995Z",
     "iopub.status.idle": "2024-11-24T09:54:53.780548Z",
     "shell.execute_reply": "2024-11-24T09:54:53.779593Z",
     "shell.execute_reply.started": "2024-11-24T09:54:48.755826Z"
    },
    "trusted": true
   },
   "outputs": [],
   "source": [
    "import os\n",
    "import random\n",
    "import uuid\n",
    "import shutil\n",
    "from PIL import Image\n",
    "import torchvision.transforms.functional as F"
   ]
  },
  {
   "cell_type": "markdown",
   "metadata": {},
   "source": [
    "## Importing Dataset"
   ]
  },
  {
   "cell_type": "code",
   "execution_count": 2,
   "metadata": {
    "execution": {
     "iopub.execute_input": "2024-11-24T09:54:53.782759Z",
     "iopub.status.busy": "2024-11-24T09:54:53.782289Z",
     "iopub.status.idle": "2024-11-24T09:54:53.787817Z",
     "shell.execute_reply": "2024-11-24T09:54:53.786638Z",
     "shell.execute_reply.started": "2024-11-24T09:54:53.782722Z"
    },
    "trusted": true
   },
   "outputs": [],
   "source": [
    "dataset_path = '/kaggle/working/'"
   ]
  },
  {
   "cell_type": "markdown",
   "metadata": {},
   "source": [
    "## Applying Augmentation"
   ]
  },
  {
   "cell_type": "code",
   "execution_count": null,
   "metadata": {
    "execution": {
     "iopub.execute_input": "2024-11-24T09:54:53.789995Z",
     "iopub.status.busy": "2024-11-24T09:54:53.789457Z",
     "iopub.status.idle": "2024-11-24T09:54:53.821497Z",
     "shell.execute_reply": "2024-11-24T09:54:53.820172Z",
     "shell.execute_reply.started": "2024-11-24T09:54:53.789936Z"
    },
    "trusted": true
   },
   "outputs": [],
   "source": [
    "original_data_dir = '/kaggle/input/chase-dataset/chase/images/'\n",
    "augmented_data_dir = '/kaggle/working/augmented_images/'\n",
    "original_mask_dir = '/kaggle/input/chase-dataset/chase/targets_1/'\n",
    "augmented_mask_dir = '/kaggle/working/augmented_masks/'\n",
    "os.makedirs(augmented_data_dir, exist_ok=True)\n",
    "os.makedirs(augmented_mask_dir, exist_ok=True)"
   ]
  },
  {
   "cell_type": "code",
   "execution_count": null,
   "metadata": {
    "execution": {
     "iopub.execute_input": "2024-11-08T04:53:18.973773Z",
     "iopub.status.busy": "2024-11-08T04:53:18.973253Z",
     "iopub.status.idle": "2024-11-08T04:53:18.985642Z",
     "shell.execute_reply": "2024-11-08T04:53:18.983982Z",
     "shell.execute_reply.started": "2024-11-08T04:53:18.973714Z"
    },
    "trusted": true
   },
   "outputs": [],
   "source": [
    "class PairedTransform:\n",
    "    def __init__(self, degrees=(0, 360), contrast=(1.0, 1.5), p_flip=0.5):\n",
    "        self.degrees = degrees\n",
    "        self.contrast = contrast\n",
    "        self.p_flip = p_flip\n",
    "\n",
    "    def __call__(self, image, mask,deg):\n",
    "        # 1. Rotate with the same random angle\n",
    "        angle = random.uniform(deg,deg)\n",
    "        image = F.rotate(image, angle)\n",
    "        mask = F.rotate(mask, angle)\n",
    "\n",
    "        # 2. Random horizontal flip\n",
    "        if random.random() < self.p_flip:\n",
    "            image = F.hflip(image)\n",
    "            mask = F.hflip(mask)\n",
    "\n",
    "        # 3. Random vertical flip\n",
    "        if random.random() < self.p_flip:\n",
    "            image = F.vflip(image)\n",
    "            mask = F.vflip(mask)\n",
    "\n",
    "        # 4. Color jitter (only apply to image, not mask)\n",
    "        contrast_factor = random.uniform(*self.contrast)\n",
    "        image = F.adjust_contrast(image, contrast_factor)\n",
    "\n",
    "        return image, mask\n",
    "\n",
    "augment = PairedTransform()\n"
   ]
  },
  {
   "cell_type": "code",
   "execution_count": null,
   "metadata": {
    "execution": {
     "iopub.execute_input": "2024-11-08T04:54:08.536055Z",
     "iopub.status.busy": "2024-11-08T04:54:08.535538Z",
     "iopub.status.idle": "2024-11-08T04:55:13.892021Z",
     "shell.execute_reply": "2024-11-08T04:55:13.890792Z",
     "shell.execute_reply.started": "2024-11-08T04:54:08.536008Z"
    },
    "trusted": true
   },
   "outputs": [],
   "source": [
    "# Process each image in the directory\n",
    "for img_file in os.listdir(original_data_dir):\n",
    "    image_path = os.path.join(original_data_dir, img_file)\n",
    "    mask_path = os.path.join(original_mask_dir, img_file.replace(\".jpg\", \"_1stHO.png\"))  # Adjust mask naming convention\n",
    "    \n",
    "    # Load image and mask\n",
    "    image = Image.open(image_path).convert(\"RGB\")\n",
    "    mask = Image.open(mask_path).convert(\"L\")  # Convert mask to single channel (grayscale)\n",
    "    \n",
    "    # Generate 5 augmented versions for each image-mask pair\n",
    "    for i in range(5):\n",
    "        augmented_image, augmented_mask = augment(image, mask,72*i)\n",
    "        \n",
    "        # Save augmented image and mask with unique filenames\n",
    "        unique_filename = uuid.uuid4()\n",
    "        augmented_image.save(os.path.join(augmented_data_dir, f\"{unique_filename}.png\"))\n",
    "        augmented_mask.save(os.path.join(augmented_mask_dir, f\"{unique_filename}_1stHO.png\"))\n"
   ]
  },
  {
   "cell_type": "markdown",
   "metadata": {},
   "source": [
    "## Saving in zip format"
   ]
  },
  {
   "cell_type": "code",
   "execution_count": null,
   "metadata": {
    "execution": {
     "iopub.execute_input": "2024-11-08T04:55:13.894735Z",
     "iopub.status.busy": "2024-11-08T04:55:13.894243Z",
     "iopub.status.idle": "2024-11-08T04:55:18.747300Z",
     "shell.execute_reply": "2024-11-08T04:55:18.745978Z",
     "shell.execute_reply.started": "2024-11-08T04:55:13.894657Z"
    },
    "trusted": true
   },
   "outputs": [
    {
     "name": "stdout",
     "output_type": "stream",
     "text": [
      "Preprocessed images zip file created at: /kaggle/working/preprocessed.zip\n",
      "Augmented images zip file created at: /kaggle/working/augmented_images.zip\n",
      "Augmented masks zip file created at: /kaggle/working/augmented_masks.zip\n"
     ]
    }
   ],
   "source": [
    "# Paths for folders to be zipped\n",
    "augmented_images_dir = '/kaggle/working/augmented_images'\n",
    "augmented_masks_dir = '/kaggle/working/augmented_masks'\n",
    "\n",
    "# Create zip files for each folder\n",
    "shutil.make_archive(augmented_images_dir, 'zip', augmented_images_dir)\n",
    "shutil.make_archive(augmented_masks_dir, 'zip', augmented_masks_dir)\n",
    "\n",
    "# File paths for the zip files\n",
    "augmented_images_zip_path = augmented_images_dir + '.zip'\n",
    "augmented_masks_zip_path = augmented_masks_dir + '.zip'\n",
    "\n",
    "# Check if the zip files are created and then print their paths for download\n",
    "if os.path.exists(augmented_images_zip_path):\n",
    "    print(f\"Augmented images zip file created at: {augmented_images_zip_path}\")\n",
    "if os.path.exists(augmented_masks_zip_path):\n",
    "    print(f\"Augmented masks zip file created at: {augmented_masks_zip_path}\")"
   ]
  }
 ],
 "metadata": {
  "kaggle": {
   "accelerator": "none",
   "dataSources": [
    {
     "datasetId": 5766428,
     "sourceId": 9480260,
     "sourceType": "datasetVersion"
    }
   ],
   "dockerImageVersionId": 30787,
   "isGpuEnabled": false,
   "isInternetEnabled": true,
   "language": "python",
   "sourceType": "notebook"
  },
  "kernelspec": {
   "display_name": "Python 3",
   "language": "python",
   "name": "python3"
  },
  "language_info": {
   "codemirror_mode": {
    "name": "ipython",
    "version": 3
   },
   "file_extension": ".py",
   "mimetype": "text/x-python",
   "name": "python",
   "nbconvert_exporter": "python",
   "pygments_lexer": "ipython3",
   "version": "3.10.14"
  }
 },
 "nbformat": 4,
 "nbformat_minor": 4
}
